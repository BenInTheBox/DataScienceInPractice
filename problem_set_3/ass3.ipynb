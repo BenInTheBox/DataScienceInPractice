{
 "cells": [
  {
   "cell_type": "code",
   "execution_count": 36,
   "metadata": {},
   "outputs": [],
   "source": [
    "import numpy as np\n",
    "import pandas as pd\n",
    "import matplotlib.pyplot as plt\n",
    "import seaborn as sns\n",
    "from sklearn.metrics import precision_score, recall_score, confusion_matrix\n",
    "import scikitplot as skplt\n",
    "\n",
    "from sklearn.preprocessing import MinMaxScaler\n",
    "from sklearn.decomposition import PCA\n",
    "from sklearn import metrics\n",
    "from sklearn.neighbors import KNeighborsClassifier"
   ]
  },
  {
   "cell_type": "markdown",
   "metadata": {},
   "source": [
    "# Data treatment"
   ]
  },
  {
   "cell_type": "markdown",
   "metadata": {},
   "source": [
    "## In this section, the data are prepared for the learning process. "
   ]
  },
  {
   "cell_type": "code",
   "execution_count": 38,
   "metadata": {
    "scrolled": false
   },
   "outputs": [
    {
     "name": "stdout",
     "output_type": "stream",
     "text": [
      "(7043, 21)\n",
      "customerID           object\n",
      "gender               object\n",
      "SeniorCitizen         int64\n",
      "Partner              object\n",
      "Dependents           object\n",
      "tenure                int64\n",
      "PhoneService         object\n",
      "MultipleLines        object\n",
      "InternetService      object\n",
      "OnlineSecurity       object\n",
      "OnlineBackup         object\n",
      "DeviceProtection     object\n",
      "TechSupport          object\n",
      "StreamingTV          object\n",
      "StreamingMovies      object\n",
      "Contract             object\n",
      "PaperlessBilling     object\n",
      "PaymentMethod        object\n",
      "MonthlyCharges      float64\n",
      "TotalCharges         object\n",
      "Churn                object\n",
      "dtype: object\n"
     ]
    },
    {
     "data": {
      "text/html": [
       "<div>\n",
       "<style scoped>\n",
       "    .dataframe tbody tr th:only-of-type {\n",
       "        vertical-align: middle;\n",
       "    }\n",
       "\n",
       "    .dataframe tbody tr th {\n",
       "        vertical-align: top;\n",
       "    }\n",
       "\n",
       "    .dataframe thead th {\n",
       "        text-align: right;\n",
       "    }\n",
       "</style>\n",
       "<table border=\"1\" class=\"dataframe\">\n",
       "  <thead>\n",
       "    <tr style=\"text-align: right;\">\n",
       "      <th></th>\n",
       "      <th>customerID</th>\n",
       "      <th>gender</th>\n",
       "      <th>SeniorCitizen</th>\n",
       "      <th>Partner</th>\n",
       "      <th>Dependents</th>\n",
       "      <th>tenure</th>\n",
       "      <th>PhoneService</th>\n",
       "      <th>MultipleLines</th>\n",
       "      <th>InternetService</th>\n",
       "      <th>OnlineSecurity</th>\n",
       "      <th>...</th>\n",
       "      <th>DeviceProtection</th>\n",
       "      <th>TechSupport</th>\n",
       "      <th>StreamingTV</th>\n",
       "      <th>StreamingMovies</th>\n",
       "      <th>Contract</th>\n",
       "      <th>PaperlessBilling</th>\n",
       "      <th>PaymentMethod</th>\n",
       "      <th>MonthlyCharges</th>\n",
       "      <th>TotalCharges</th>\n",
       "      <th>Churn</th>\n",
       "    </tr>\n",
       "  </thead>\n",
       "  <tbody>\n",
       "    <tr>\n",
       "      <td>0</td>\n",
       "      <td>7590-VHVEG</td>\n",
       "      <td>Female</td>\n",
       "      <td>0</td>\n",
       "      <td>Yes</td>\n",
       "      <td>No</td>\n",
       "      <td>1</td>\n",
       "      <td>No</td>\n",
       "      <td>No phone service</td>\n",
       "      <td>DSL</td>\n",
       "      <td>No</td>\n",
       "      <td>...</td>\n",
       "      <td>No</td>\n",
       "      <td>No</td>\n",
       "      <td>No</td>\n",
       "      <td>No</td>\n",
       "      <td>Month-to-month</td>\n",
       "      <td>Yes</td>\n",
       "      <td>Electronic check</td>\n",
       "      <td>29.85</td>\n",
       "      <td>29.85</td>\n",
       "      <td>No</td>\n",
       "    </tr>\n",
       "    <tr>\n",
       "      <td>1</td>\n",
       "      <td>5575-GNVDE</td>\n",
       "      <td>Male</td>\n",
       "      <td>0</td>\n",
       "      <td>No</td>\n",
       "      <td>No</td>\n",
       "      <td>34</td>\n",
       "      <td>Yes</td>\n",
       "      <td>No</td>\n",
       "      <td>DSL</td>\n",
       "      <td>Yes</td>\n",
       "      <td>...</td>\n",
       "      <td>Yes</td>\n",
       "      <td>No</td>\n",
       "      <td>No</td>\n",
       "      <td>No</td>\n",
       "      <td>One year</td>\n",
       "      <td>No</td>\n",
       "      <td>Mailed check</td>\n",
       "      <td>56.95</td>\n",
       "      <td>1889.5</td>\n",
       "      <td>No</td>\n",
       "    </tr>\n",
       "    <tr>\n",
       "      <td>2</td>\n",
       "      <td>3668-QPYBK</td>\n",
       "      <td>Male</td>\n",
       "      <td>0</td>\n",
       "      <td>No</td>\n",
       "      <td>No</td>\n",
       "      <td>2</td>\n",
       "      <td>Yes</td>\n",
       "      <td>No</td>\n",
       "      <td>DSL</td>\n",
       "      <td>Yes</td>\n",
       "      <td>...</td>\n",
       "      <td>No</td>\n",
       "      <td>No</td>\n",
       "      <td>No</td>\n",
       "      <td>No</td>\n",
       "      <td>Month-to-month</td>\n",
       "      <td>Yes</td>\n",
       "      <td>Mailed check</td>\n",
       "      <td>53.85</td>\n",
       "      <td>108.15</td>\n",
       "      <td>Yes</td>\n",
       "    </tr>\n",
       "    <tr>\n",
       "      <td>3</td>\n",
       "      <td>7795-CFOCW</td>\n",
       "      <td>Male</td>\n",
       "      <td>0</td>\n",
       "      <td>No</td>\n",
       "      <td>No</td>\n",
       "      <td>45</td>\n",
       "      <td>No</td>\n",
       "      <td>No phone service</td>\n",
       "      <td>DSL</td>\n",
       "      <td>Yes</td>\n",
       "      <td>...</td>\n",
       "      <td>Yes</td>\n",
       "      <td>Yes</td>\n",
       "      <td>No</td>\n",
       "      <td>No</td>\n",
       "      <td>One year</td>\n",
       "      <td>No</td>\n",
       "      <td>Bank transfer (automatic)</td>\n",
       "      <td>42.30</td>\n",
       "      <td>1840.75</td>\n",
       "      <td>No</td>\n",
       "    </tr>\n",
       "    <tr>\n",
       "      <td>4</td>\n",
       "      <td>9237-HQITU</td>\n",
       "      <td>Female</td>\n",
       "      <td>0</td>\n",
       "      <td>No</td>\n",
       "      <td>No</td>\n",
       "      <td>2</td>\n",
       "      <td>Yes</td>\n",
       "      <td>No</td>\n",
       "      <td>Fiber optic</td>\n",
       "      <td>No</td>\n",
       "      <td>...</td>\n",
       "      <td>No</td>\n",
       "      <td>No</td>\n",
       "      <td>No</td>\n",
       "      <td>No</td>\n",
       "      <td>Month-to-month</td>\n",
       "      <td>Yes</td>\n",
       "      <td>Electronic check</td>\n",
       "      <td>70.70</td>\n",
       "      <td>151.65</td>\n",
       "      <td>Yes</td>\n",
       "    </tr>\n",
       "  </tbody>\n",
       "</table>\n",
       "<p>5 rows × 21 columns</p>\n",
       "</div>"
      ],
      "text/plain": [
       "   customerID  gender  SeniorCitizen Partner Dependents  tenure PhoneService  \\\n",
       "0  7590-VHVEG  Female              0     Yes         No       1           No   \n",
       "1  5575-GNVDE    Male              0      No         No      34          Yes   \n",
       "2  3668-QPYBK    Male              0      No         No       2          Yes   \n",
       "3  7795-CFOCW    Male              0      No         No      45           No   \n",
       "4  9237-HQITU  Female              0      No         No       2          Yes   \n",
       "\n",
       "      MultipleLines InternetService OnlineSecurity  ... DeviceProtection  \\\n",
       "0  No phone service             DSL             No  ...               No   \n",
       "1                No             DSL            Yes  ...              Yes   \n",
       "2                No             DSL            Yes  ...               No   \n",
       "3  No phone service             DSL            Yes  ...              Yes   \n",
       "4                No     Fiber optic             No  ...               No   \n",
       "\n",
       "  TechSupport StreamingTV StreamingMovies        Contract PaperlessBilling  \\\n",
       "0          No          No              No  Month-to-month              Yes   \n",
       "1          No          No              No        One year               No   \n",
       "2          No          No              No  Month-to-month              Yes   \n",
       "3         Yes          No              No        One year               No   \n",
       "4          No          No              No  Month-to-month              Yes   \n",
       "\n",
       "               PaymentMethod MonthlyCharges  TotalCharges Churn  \n",
       "0           Electronic check          29.85         29.85    No  \n",
       "1               Mailed check          56.95        1889.5    No  \n",
       "2               Mailed check          53.85        108.15   Yes  \n",
       "3  Bank transfer (automatic)          42.30       1840.75    No  \n",
       "4           Electronic check          70.70        151.65   Yes  \n",
       "\n",
       "[5 rows x 21 columns]"
      ]
     },
     "execution_count": 38,
     "metadata": {},
     "output_type": "execute_result"
    }
   ],
   "source": [
    "data = pd.read_csv('customers.csv')\n",
    "print(data.shape)\n",
    "print(data.dtypes)\n",
    "data.head()\n"
   ]
  },
  {
   "cell_type": "markdown",
   "metadata": {},
   "source": [
    "### The data a translated into numbers to allow the classifier to understand them"
   ]
  },
  {
   "cell_type": "code",
   "execution_count": 39,
   "metadata": {},
   "outputs": [
    {
     "data": {
      "text/html": [
       "<div>\n",
       "<style scoped>\n",
       "    .dataframe tbody tr th:only-of-type {\n",
       "        vertical-align: middle;\n",
       "    }\n",
       "\n",
       "    .dataframe tbody tr th {\n",
       "        vertical-align: top;\n",
       "    }\n",
       "\n",
       "    .dataframe thead th {\n",
       "        text-align: right;\n",
       "    }\n",
       "</style>\n",
       "<table border=\"1\" class=\"dataframe\">\n",
       "  <thead>\n",
       "    <tr style=\"text-align: right;\">\n",
       "      <th></th>\n",
       "      <th>customerID</th>\n",
       "      <th>gender</th>\n",
       "      <th>SeniorCitizen</th>\n",
       "      <th>Partner</th>\n",
       "      <th>Dependents</th>\n",
       "      <th>tenure</th>\n",
       "      <th>PhoneService</th>\n",
       "      <th>MultipleLines</th>\n",
       "      <th>InternetService</th>\n",
       "      <th>OnlineSecurity</th>\n",
       "      <th>...</th>\n",
       "      <th>DeviceProtection</th>\n",
       "      <th>TechSupport</th>\n",
       "      <th>StreamingTV</th>\n",
       "      <th>StreamingMovies</th>\n",
       "      <th>Contract</th>\n",
       "      <th>PaperlessBilling</th>\n",
       "      <th>PaymentMethod</th>\n",
       "      <th>MonthlyCharges</th>\n",
       "      <th>TotalCharges</th>\n",
       "      <th>Churn</th>\n",
       "    </tr>\n",
       "  </thead>\n",
       "  <tbody>\n",
       "    <tr>\n",
       "      <td>0</td>\n",
       "      <td>7590-VHVEG</td>\n",
       "      <td>0</td>\n",
       "      <td>0</td>\n",
       "      <td>1</td>\n",
       "      <td>0</td>\n",
       "      <td>1</td>\n",
       "      <td>0</td>\n",
       "      <td>0</td>\n",
       "      <td>1</td>\n",
       "      <td>1</td>\n",
       "      <td>...</td>\n",
       "      <td>1</td>\n",
       "      <td>1</td>\n",
       "      <td>1</td>\n",
       "      <td>1</td>\n",
       "      <td>1</td>\n",
       "      <td>1</td>\n",
       "      <td>3</td>\n",
       "      <td>29.85</td>\n",
       "      <td>29.85</td>\n",
       "      <td>0</td>\n",
       "    </tr>\n",
       "    <tr>\n",
       "      <td>1</td>\n",
       "      <td>5575-GNVDE</td>\n",
       "      <td>1</td>\n",
       "      <td>0</td>\n",
       "      <td>0</td>\n",
       "      <td>0</td>\n",
       "      <td>34</td>\n",
       "      <td>1</td>\n",
       "      <td>1</td>\n",
       "      <td>1</td>\n",
       "      <td>2</td>\n",
       "      <td>...</td>\n",
       "      <td>2</td>\n",
       "      <td>1</td>\n",
       "      <td>1</td>\n",
       "      <td>1</td>\n",
       "      <td>12</td>\n",
       "      <td>0</td>\n",
       "      <td>2</td>\n",
       "      <td>56.95</td>\n",
       "      <td>683.40</td>\n",
       "      <td>0</td>\n",
       "    </tr>\n",
       "    <tr>\n",
       "      <td>2</td>\n",
       "      <td>3668-QPYBK</td>\n",
       "      <td>1</td>\n",
       "      <td>0</td>\n",
       "      <td>0</td>\n",
       "      <td>0</td>\n",
       "      <td>2</td>\n",
       "      <td>1</td>\n",
       "      <td>1</td>\n",
       "      <td>1</td>\n",
       "      <td>2</td>\n",
       "      <td>...</td>\n",
       "      <td>1</td>\n",
       "      <td>1</td>\n",
       "      <td>1</td>\n",
       "      <td>1</td>\n",
       "      <td>1</td>\n",
       "      <td>1</td>\n",
       "      <td>2</td>\n",
       "      <td>53.85</td>\n",
       "      <td>53.85</td>\n",
       "      <td>1</td>\n",
       "    </tr>\n",
       "    <tr>\n",
       "      <td>3</td>\n",
       "      <td>7795-CFOCW</td>\n",
       "      <td>1</td>\n",
       "      <td>0</td>\n",
       "      <td>0</td>\n",
       "      <td>0</td>\n",
       "      <td>45</td>\n",
       "      <td>0</td>\n",
       "      <td>0</td>\n",
       "      <td>1</td>\n",
       "      <td>2</td>\n",
       "      <td>...</td>\n",
       "      <td>2</td>\n",
       "      <td>2</td>\n",
       "      <td>1</td>\n",
       "      <td>1</td>\n",
       "      <td>12</td>\n",
       "      <td>0</td>\n",
       "      <td>1</td>\n",
       "      <td>42.30</td>\n",
       "      <td>507.60</td>\n",
       "      <td>0</td>\n",
       "    </tr>\n",
       "    <tr>\n",
       "      <td>4</td>\n",
       "      <td>9237-HQITU</td>\n",
       "      <td>0</td>\n",
       "      <td>0</td>\n",
       "      <td>0</td>\n",
       "      <td>0</td>\n",
       "      <td>2</td>\n",
       "      <td>1</td>\n",
       "      <td>1</td>\n",
       "      <td>2</td>\n",
       "      <td>1</td>\n",
       "      <td>...</td>\n",
       "      <td>1</td>\n",
       "      <td>1</td>\n",
       "      <td>1</td>\n",
       "      <td>1</td>\n",
       "      <td>1</td>\n",
       "      <td>1</td>\n",
       "      <td>3</td>\n",
       "      <td>70.70</td>\n",
       "      <td>70.70</td>\n",
       "      <td>1</td>\n",
       "    </tr>\n",
       "  </tbody>\n",
       "</table>\n",
       "<p>5 rows × 21 columns</p>\n",
       "</div>"
      ],
      "text/plain": [
       "   customerID  gender  SeniorCitizen  Partner  Dependents  tenure  \\\n",
       "0  7590-VHVEG       0              0        1           0       1   \n",
       "1  5575-GNVDE       1              0        0           0      34   \n",
       "2  3668-QPYBK       1              0        0           0       2   \n",
       "3  7795-CFOCW       1              0        0           0      45   \n",
       "4  9237-HQITU       0              0        0           0       2   \n",
       "\n",
       "   PhoneService  MultipleLines  InternetService  OnlineSecurity  ...  \\\n",
       "0             0              0                1               1  ...   \n",
       "1             1              1                1               2  ...   \n",
       "2             1              1                1               2  ...   \n",
       "3             0              0                1               2  ...   \n",
       "4             1              1                2               1  ...   \n",
       "\n",
       "   DeviceProtection  TechSupport  StreamingTV  StreamingMovies  Contract  \\\n",
       "0                 1            1            1                1         1   \n",
       "1                 2            1            1                1        12   \n",
       "2                 1            1            1                1         1   \n",
       "3                 2            2            1                1        12   \n",
       "4                 1            1            1                1         1   \n",
       "\n",
       "   PaperlessBilling  PaymentMethod  MonthlyCharges  TotalCharges  Churn  \n",
       "0                 1              3           29.85         29.85      0  \n",
       "1                 0              2           56.95        683.40      0  \n",
       "2                 1              2           53.85         53.85      1  \n",
       "3                 0              1           42.30        507.60      0  \n",
       "4                 1              3           70.70         70.70      1  \n",
       "\n",
       "[5 rows x 21 columns]"
      ]
     },
     "execution_count": 39,
     "metadata": {},
     "output_type": "execute_result"
    }
   ],
   "source": [
    "DataFrame=data.copy()\n",
    "\n",
    "DataFrame.gender=DataFrame.gender.replace(\"Male\",1)\n",
    "DataFrame.gender=DataFrame.gender.replace(\"Female\",0)\n",
    "\n",
    "DataFrame.Partner=DataFrame.Partner.replace(\"Yes\",1)\n",
    "DataFrame.Partner=DataFrame.Partner.replace(\"No\",0)\n",
    "\n",
    "DataFrame.Dependents=DataFrame.Dependents.replace(\"Yes\",1)\n",
    "DataFrame.Dependents=DataFrame.Dependents.replace(\"No\",0)\n",
    "\n",
    "DataFrame.PhoneService=DataFrame.PhoneService.replace(\"Yes\",1)\n",
    "DataFrame.PhoneService=DataFrame.PhoneService.replace(\"No\",0)\n",
    "\n",
    "DataFrame.MultipleLines=DataFrame.MultipleLines.replace(\"Yes\",2)\n",
    "DataFrame.MultipleLines=DataFrame.MultipleLines.replace(\"No\",1)\n",
    "DataFrame.MultipleLines=DataFrame.MultipleLines.replace(\"No phone service\",0)\n",
    "\n",
    "DataFrame.InternetService=DataFrame.InternetService.replace(\"Fiber optic\",2)\n",
    "DataFrame.InternetService=DataFrame.InternetService.replace(\"DSL\",1)\n",
    "DataFrame.InternetService=DataFrame.InternetService.replace(\"No\",0)\n",
    "\n",
    "DataFrame.OnlineSecurity=DataFrame.OnlineSecurity.replace(\"Yes\",2)\n",
    "DataFrame.OnlineSecurity=DataFrame.OnlineSecurity.replace(\"No\",1)\n",
    "DataFrame.OnlineSecurity=DataFrame.OnlineSecurity.replace(\"No internet service\",0)\n",
    "\n",
    "DataFrame.OnlineBackup=DataFrame.OnlineBackup.replace(\"Yes\",2)\n",
    "DataFrame.OnlineBackup=DataFrame.OnlineBackup.replace(\"No\",1)\n",
    "DataFrame.OnlineBackup=DataFrame.OnlineBackup.replace(\"No internet service\",0)\n",
    "\n",
    "DataFrame.DeviceProtection=DataFrame.DeviceProtection.replace(\"Yes\",2)\n",
    "DataFrame.DeviceProtection=DataFrame.DeviceProtection.replace(\"No\",1)\n",
    "DataFrame.DeviceProtection=DataFrame.DeviceProtection.replace(\"No internet service\",0)\n",
    "\n",
    "DataFrame.TechSupport=DataFrame.TechSupport.replace(\"Yes\",2)\n",
    "DataFrame.TechSupport=DataFrame.TechSupport.replace(\"No\",1)\n",
    "DataFrame.TechSupport=DataFrame.TechSupport.replace(\"No internet service\",0)\n",
    "\n",
    "DataFrame.StreamingTV=DataFrame.StreamingTV.replace(\"Yes\",2)\n",
    "DataFrame.StreamingTV=DataFrame.StreamingTV.replace(\"No\",1)\n",
    "DataFrame.StreamingTV=DataFrame.StreamingTV.replace(\"No internet service\",0)\n",
    "\n",
    "DataFrame.StreamingMovies=DataFrame.StreamingMovies.replace(\"Yes\",2)\n",
    "DataFrame.StreamingMovies=DataFrame.StreamingMovies.replace(\"No\",1)\n",
    "DataFrame.StreamingMovies=DataFrame.StreamingMovies.replace(\"No internet service\",0)\n",
    "\n",
    "DataFrame.Contract=DataFrame.Contract.replace(\"Two year\",24)\n",
    "DataFrame.Contract=DataFrame.Contract.replace(\"One year\",12)\n",
    "DataFrame.Contract=DataFrame.Contract.replace(\"Month-to-month\",1)\n",
    "\n",
    "DataFrame.PaperlessBilling=DataFrame.PaperlessBilling.replace(\"Yes\",1)\n",
    "DataFrame.PaperlessBilling=DataFrame.PaperlessBilling.replace(\"No\",0)\n",
    "\n",
    "DataFrame.PaymentMethod=DataFrame.PaymentMethod.replace(\"Electronic check\",3)\n",
    "DataFrame.PaymentMethod=DataFrame.PaymentMethod.replace(\"Mailed check\",2)\n",
    "DataFrame.PaymentMethod=DataFrame.PaymentMethod.replace(\"Bank transfer (automatic)\",1)\n",
    "DataFrame.PaymentMethod=DataFrame.PaymentMethod.replace(\"Credit card (automatic)\",0)\n",
    "\n",
    "DataFrame.TotalCharges=DataFrame.Contract*DataFrame.MonthlyCharges\n",
    "\n",
    "DataFrame.Churn=DataFrame.Churn.replace(\"Yes\",1)\n",
    "DataFrame.Churn=DataFrame.Churn.replace(\"No\",0)\n",
    "\n",
    "\n",
    "DataFrame.head()"
   ]
  },
  {
   "cell_type": "markdown",
   "metadata": {},
   "source": [
    "### We check if the type of every variable is either an int or a float. The customer ID is not a relevant variable as it does not affect the churn a-priori. So it will be removed later "
   ]
  },
  {
   "cell_type": "code",
   "execution_count": 4,
   "metadata": {
    "scrolled": true
   },
   "outputs": [
    {
     "name": "stdout",
     "output_type": "stream",
     "text": [
      "customerID           object\n",
      "gender                int64\n",
      "SeniorCitizen         int64\n",
      "Partner               int64\n",
      "Dependents            int64\n",
      "tenure                int64\n",
      "PhoneService          int64\n",
      "MultipleLines         int64\n",
      "InternetService       int64\n",
      "OnlineSecurity        int64\n",
      "OnlineBackup          int64\n",
      "DeviceProtection      int64\n",
      "TechSupport           int64\n",
      "StreamingTV           int64\n",
      "StreamingMovies       int64\n",
      "Contract              int64\n",
      "PaperlessBilling      int64\n",
      "PaymentMethod         int64\n",
      "MonthlyCharges      float64\n",
      "TotalCharges        float64\n",
      "Churn                 int64\n",
      "dtype: object\n"
     ]
    }
   ],
   "source": [
    "print(DataFrame.dtypes)"
   ]
  },
  {
   "cell_type": "code",
   "execution_count": 5,
   "metadata": {},
   "outputs": [
    {
     "name": "stdout",
     "output_type": "stream",
     "text": [
      "5457-COLHT    0.000142\n",
      "5465-BUBFA    0.000142\n",
      "8780-IXSTS    0.000142\n",
      "5934-RMPOV    0.000142\n",
      "5474-LAMUQ    0.000142\n",
      "                ...   \n",
      "9842-EFSYY    0.000142\n",
      "1599-MMYRQ    0.000142\n",
      "1222-KJNZD    0.000142\n",
      "6103-LIANB    0.000142\n",
      "7874-ECPQJ    0.000142\n",
      "Name: customerID, Length: 7043, dtype: float64\n",
      "1    0.504756\n",
      "0    0.495244\n",
      "Name: gender, dtype: float64\n",
      "0    0.837853\n",
      "1    0.162147\n",
      "Name: SeniorCitizen, dtype: float64\n",
      "0    0.516967\n",
      "1    0.483033\n",
      "Name: Partner, dtype: float64\n",
      "0    0.700412\n",
      "1    0.299588\n",
      "Name: Dependents, dtype: float64\n",
      "1     0.087037\n",
      "72    0.051399\n",
      "2     0.033792\n",
      "3     0.028397\n",
      "4     0.024989\n",
      "        ...   \n",
      "28    0.008093\n",
      "39    0.007951\n",
      "44    0.007241\n",
      "36    0.007099\n",
      "0     0.001562\n",
      "Name: tenure, Length: 73, dtype: float64\n",
      "1    0.903166\n",
      "0    0.096834\n",
      "Name: PhoneService, dtype: float64\n",
      "1    0.481329\n",
      "2    0.421837\n",
      "0    0.096834\n",
      "Name: MultipleLines, dtype: float64\n",
      "2    0.439585\n",
      "1    0.343746\n",
      "0    0.216669\n",
      "Name: InternetService, dtype: float64\n",
      "1    0.496663\n",
      "2    0.286668\n",
      "0    0.216669\n",
      "Name: OnlineSecurity, dtype: float64\n",
      "1    0.438450\n",
      "2    0.344881\n",
      "0    0.216669\n",
      "Name: OnlineBackup, dtype: float64\n",
      "1    0.439443\n",
      "2    0.343888\n",
      "0    0.216669\n",
      "Name: DeviceProtection, dtype: float64\n",
      "1    0.493114\n",
      "2    0.290217\n",
      "0    0.216669\n",
      "Name: TechSupport, dtype: float64\n",
      "1    0.398978\n",
      "2    0.384353\n",
      "0    0.216669\n",
      "Name: StreamingTV, dtype: float64\n",
      "1    0.395428\n",
      "2    0.387903\n",
      "0    0.216669\n",
      "Name: StreamingMovies, dtype: float64\n",
      "1     0.550192\n",
      "24    0.240664\n",
      "12    0.209144\n",
      "Name: Contract, dtype: float64\n",
      "1    0.592219\n",
      "0    0.407781\n",
      "Name: PaperlessBilling, dtype: float64\n",
      "3    0.335794\n",
      "2    0.228880\n",
      "1    0.219225\n",
      "0    0.216101\n",
      "Name: PaymentMethod, dtype: float64\n",
      "20.05     0.008661\n",
      "19.85     0.006389\n",
      "19.95     0.006247\n",
      "19.90     0.006247\n",
      "20.00     0.006105\n",
      "            ...   \n",
      "114.75    0.000142\n",
      "103.60    0.000142\n",
      "113.40    0.000142\n",
      "57.65     0.000142\n",
      "113.30    0.000142\n",
      "Name: MonthlyCharges, Length: 1585, dtype: float64\n",
      "20.05      0.003976\n",
      "476.40     0.002982\n",
      "472.80     0.002982\n",
      "20.00      0.002840\n",
      "469.20     0.002840\n",
      "             ...   \n",
      "25.90      0.000142\n",
      "2463.60    0.000142\n",
      "103.80     0.000142\n",
      "1167.00    0.000142\n",
      "53.10      0.000142\n",
      "Name: TotalCharges, Length: 2809, dtype: float64\n",
      "0    0.73463\n",
      "1    0.26537\n",
      "Name: Churn, dtype: float64\n"
     ]
    }
   ],
   "source": [
    "for col in DataFrame.columns:\n",
    "    print(DataFrame[col].value_counts(normalize=True))\n"
   ]
  },
  {
   "cell_type": "code",
   "execution_count": 40,
   "metadata": {},
   "outputs": [
    {
     "name": "stdout",
     "output_type": "stream",
     "text": [
      "0    0.73463\n",
      "1    0.26537\n",
      "Name: Churn, dtype: float64\n"
     ]
    }
   ],
   "source": [
    "print(DataFrame['Churn'].value_counts(normalize=True))"
   ]
  },
  {
   "cell_type": "markdown",
   "metadata": {},
   "source": [
    "### We prepare the X variables "
   ]
  },
  {
   "cell_type": "code",
   "execution_count": 41,
   "metadata": {},
   "outputs": [
    {
     "data": {
      "text/html": [
       "<div>\n",
       "<style scoped>\n",
       "    .dataframe tbody tr th:only-of-type {\n",
       "        vertical-align: middle;\n",
       "    }\n",
       "\n",
       "    .dataframe tbody tr th {\n",
       "        vertical-align: top;\n",
       "    }\n",
       "\n",
       "    .dataframe thead th {\n",
       "        text-align: right;\n",
       "    }\n",
       "</style>\n",
       "<table border=\"1\" class=\"dataframe\">\n",
       "  <thead>\n",
       "    <tr style=\"text-align: right;\">\n",
       "      <th></th>\n",
       "      <th>gender</th>\n",
       "      <th>SeniorCitizen</th>\n",
       "      <th>Partner</th>\n",
       "      <th>Dependents</th>\n",
       "      <th>tenure</th>\n",
       "      <th>PhoneService</th>\n",
       "      <th>MultipleLines</th>\n",
       "      <th>InternetService</th>\n",
       "      <th>OnlineSecurity</th>\n",
       "      <th>OnlineBackup</th>\n",
       "      <th>DeviceProtection</th>\n",
       "      <th>TechSupport</th>\n",
       "      <th>StreamingTV</th>\n",
       "      <th>StreamingMovies</th>\n",
       "      <th>Contract</th>\n",
       "      <th>PaperlessBilling</th>\n",
       "      <th>PaymentMethod</th>\n",
       "      <th>MonthlyCharges</th>\n",
       "      <th>TotalCharges</th>\n",
       "    </tr>\n",
       "  </thead>\n",
       "  <tbody>\n",
       "    <tr>\n",
       "      <td>0</td>\n",
       "      <td>0</td>\n",
       "      <td>0</td>\n",
       "      <td>1</td>\n",
       "      <td>0</td>\n",
       "      <td>1</td>\n",
       "      <td>0</td>\n",
       "      <td>0</td>\n",
       "      <td>1</td>\n",
       "      <td>1</td>\n",
       "      <td>2</td>\n",
       "      <td>1</td>\n",
       "      <td>1</td>\n",
       "      <td>1</td>\n",
       "      <td>1</td>\n",
       "      <td>1</td>\n",
       "      <td>1</td>\n",
       "      <td>3</td>\n",
       "      <td>29.85</td>\n",
       "      <td>29.85</td>\n",
       "    </tr>\n",
       "    <tr>\n",
       "      <td>1</td>\n",
       "      <td>1</td>\n",
       "      <td>0</td>\n",
       "      <td>0</td>\n",
       "      <td>0</td>\n",
       "      <td>34</td>\n",
       "      <td>1</td>\n",
       "      <td>1</td>\n",
       "      <td>1</td>\n",
       "      <td>2</td>\n",
       "      <td>1</td>\n",
       "      <td>2</td>\n",
       "      <td>1</td>\n",
       "      <td>1</td>\n",
       "      <td>1</td>\n",
       "      <td>12</td>\n",
       "      <td>0</td>\n",
       "      <td>2</td>\n",
       "      <td>56.95</td>\n",
       "      <td>683.40</td>\n",
       "    </tr>\n",
       "    <tr>\n",
       "      <td>2</td>\n",
       "      <td>1</td>\n",
       "      <td>0</td>\n",
       "      <td>0</td>\n",
       "      <td>0</td>\n",
       "      <td>2</td>\n",
       "      <td>1</td>\n",
       "      <td>1</td>\n",
       "      <td>1</td>\n",
       "      <td>2</td>\n",
       "      <td>2</td>\n",
       "      <td>1</td>\n",
       "      <td>1</td>\n",
       "      <td>1</td>\n",
       "      <td>1</td>\n",
       "      <td>1</td>\n",
       "      <td>1</td>\n",
       "      <td>2</td>\n",
       "      <td>53.85</td>\n",
       "      <td>53.85</td>\n",
       "    </tr>\n",
       "    <tr>\n",
       "      <td>3</td>\n",
       "      <td>1</td>\n",
       "      <td>0</td>\n",
       "      <td>0</td>\n",
       "      <td>0</td>\n",
       "      <td>45</td>\n",
       "      <td>0</td>\n",
       "      <td>0</td>\n",
       "      <td>1</td>\n",
       "      <td>2</td>\n",
       "      <td>1</td>\n",
       "      <td>2</td>\n",
       "      <td>2</td>\n",
       "      <td>1</td>\n",
       "      <td>1</td>\n",
       "      <td>12</td>\n",
       "      <td>0</td>\n",
       "      <td>1</td>\n",
       "      <td>42.30</td>\n",
       "      <td>507.60</td>\n",
       "    </tr>\n",
       "    <tr>\n",
       "      <td>4</td>\n",
       "      <td>0</td>\n",
       "      <td>0</td>\n",
       "      <td>0</td>\n",
       "      <td>0</td>\n",
       "      <td>2</td>\n",
       "      <td>1</td>\n",
       "      <td>1</td>\n",
       "      <td>2</td>\n",
       "      <td>1</td>\n",
       "      <td>1</td>\n",
       "      <td>1</td>\n",
       "      <td>1</td>\n",
       "      <td>1</td>\n",
       "      <td>1</td>\n",
       "      <td>1</td>\n",
       "      <td>1</td>\n",
       "      <td>3</td>\n",
       "      <td>70.70</td>\n",
       "      <td>70.70</td>\n",
       "    </tr>\n",
       "  </tbody>\n",
       "</table>\n",
       "</div>"
      ],
      "text/plain": [
       "   gender  SeniorCitizen  Partner  Dependents  tenure  PhoneService  \\\n",
       "0       0              0        1           0       1             0   \n",
       "1       1              0        0           0      34             1   \n",
       "2       1              0        0           0       2             1   \n",
       "3       1              0        0           0      45             0   \n",
       "4       0              0        0           0       2             1   \n",
       "\n",
       "   MultipleLines  InternetService  OnlineSecurity  OnlineBackup  \\\n",
       "0              0                1               1             2   \n",
       "1              1                1               2             1   \n",
       "2              1                1               2             2   \n",
       "3              0                1               2             1   \n",
       "4              1                2               1             1   \n",
       "\n",
       "   DeviceProtection  TechSupport  StreamingTV  StreamingMovies  Contract  \\\n",
       "0                 1            1            1                1         1   \n",
       "1                 2            1            1                1        12   \n",
       "2                 1            1            1                1         1   \n",
       "3                 2            2            1                1        12   \n",
       "4                 1            1            1                1         1   \n",
       "\n",
       "   PaperlessBilling  PaymentMethod  MonthlyCharges  TotalCharges  \n",
       "0                 1              3           29.85         29.85  \n",
       "1                 0              2           56.95        683.40  \n",
       "2                 1              2           53.85         53.85  \n",
       "3                 0              1           42.30        507.60  \n",
       "4                 1              3           70.70         70.70  "
      ]
     },
     "execution_count": 41,
     "metadata": {},
     "output_type": "execute_result"
    }
   ],
   "source": [
    "df = DataFrame.drop(columns=[\"customerID\" ,\"Churn\"])\n",
    "df.head()"
   ]
  },
  {
   "cell_type": "markdown",
   "metadata": {},
   "source": [
    "### And the Y variable (churn) "
   ]
  },
  {
   "cell_type": "code",
   "execution_count": 8,
   "metadata": {},
   "outputs": [
    {
     "data": {
      "text/plain": [
       "0    0\n",
       "1    0\n",
       "2    1\n",
       "3    0\n",
       "4    1\n",
       "Name: Churn, dtype: int64"
      ]
     },
     "execution_count": 8,
     "metadata": {},
     "output_type": "execute_result"
    }
   ],
   "source": [
    "y = DataFrame[\"Churn\"]\n",
    "y.head()"
   ]
  },
  {
   "cell_type": "code",
   "execution_count": 42,
   "metadata": {},
   "outputs": [
    {
     "ename": "AttributeError",
     "evalue": "'numpy.ndarray' object has no attribute 'to_numpy'",
     "output_type": "error",
     "traceback": [
      "\u001b[0;31m---------------------------------------------------------------------------\u001b[0m",
      "\u001b[0;31mAttributeError\u001b[0m                            Traceback (most recent call last)",
      "\u001b[0;32m<ipython-input-42-46dd13c7aa6a>\u001b[0m in \u001b[0;36m<module>\u001b[0;34m\u001b[0m\n\u001b[1;32m      1\u001b[0m \u001b[0mx\u001b[0m \u001b[0;34m=\u001b[0m \u001b[0mdf\u001b[0m\u001b[0;34m.\u001b[0m\u001b[0mto_numpy\u001b[0m\u001b[0;34m(\u001b[0m\u001b[0;34m)\u001b[0m\u001b[0;34m\u001b[0m\u001b[0;34m\u001b[0m\u001b[0m\n\u001b[0;32m----> 2\u001b[0;31m \u001b[0my\u001b[0m \u001b[0;34m=\u001b[0m \u001b[0my\u001b[0m\u001b[0;34m.\u001b[0m\u001b[0mto_numpy\u001b[0m\u001b[0;34m(\u001b[0m\u001b[0;34m)\u001b[0m\u001b[0;34m\u001b[0m\u001b[0;34m\u001b[0m\u001b[0m\n\u001b[0m\u001b[1;32m      3\u001b[0m \u001b[0mprint\u001b[0m\u001b[0;34m(\u001b[0m\u001b[0mx\u001b[0m\u001b[0;34m,\u001b[0m \u001b[0mx\u001b[0m\u001b[0;34m)\u001b[0m\u001b[0;34m\u001b[0m\u001b[0;34m\u001b[0m\u001b[0m\n",
      "\u001b[0;31mAttributeError\u001b[0m: 'numpy.ndarray' object has no attribute 'to_numpy'"
     ]
    }
   ],
   "source": [
    "x = df.to_numpy()\n",
    "y = y.to_numpy()\n",
    "print(x, x)"
   ]
  },
  {
   "cell_type": "markdown",
   "metadata": {},
   "source": [
    "### We sort the churn and no churn values"
   ]
  },
  {
   "cell_type": "code",
   "execution_count": 10,
   "metadata": {},
   "outputs": [],
   "source": [
    "no_churn = np.where(y==0)\n",
    "churn = np.where(y==1)\n",
    "x_no_churn = x[no_churn, :][0]\n",
    "y_no_churn = y[no_churn]\n",
    "x_churn = x[churn, :][0]\n",
    "y_churn = y[churn]"
   ]
  },
  {
   "cell_type": "code",
   "execution_count": 44,
   "metadata": {},
   "outputs": [
    {
     "name": "stdout",
     "output_type": "stream",
     "text": [
      "(1869, 19)\n",
      "(1869,)\n",
      "(1869, 19)\n",
      "(1869,)\n"
     ]
    }
   ],
   "source": [
    "print(x_no_churn.shape)\n",
    "print(y_no_churn.shape)\n",
    "print(x_churn.shape)\n",
    "print(y_churn.shape)"
   ]
  },
  {
   "cell_type": "markdown",
   "metadata": {},
   "source": [
    "### Swap line order"
   ]
  },
  {
   "cell_type": "code",
   "execution_count": 45,
   "metadata": {},
   "outputs": [
    {
     "name": "stdout",
     "output_type": "stream",
     "text": [
      "(1869, 19)\n",
      "(1869,)\n",
      "(1869, 19)\n",
      "(1869,)\n",
      "Rebalancing (50% Churn 50% no churn)\n",
      "(1869, 19)\n",
      "(1869,)\n",
      "(1869, 19)\n",
      "(1869,)\n"
     ]
    }
   ],
   "source": [
    "randomize1 = np.arange(x_no_churn.shape[0])\n",
    "np.random.shuffle(randomize1)\n",
    "x_no_churn = x_no_churn[randomize1]\n",
    "y_no_churn = y_no_churn[randomize1]\n",
    "\n",
    "randomize2 = np.arange(x_churn.shape[0])\n",
    "np.random.shuffle(randomize2)\n",
    "x_churn = x_churn[randomize2]\n",
    "y_churn = y_churn[randomize2]\n",
    "\n",
    "print(x_no_churn.shape)\n",
    "print(y_no_churn.shape)\n",
    "print(x_churn.shape)\n",
    "print(y_churn.shape)\n",
    "\n",
    "x_no_churn = x_no_churn[:x_churn.shape[0], :]\n",
    "y_no_churn = y_no_churn[:x_churn.shape[0]]\n",
    "print(\"Rebalancing (50% Churn 50% no churn)\")\n",
    "\n",
    "print(x_no_churn.shape)\n",
    "print(y_no_churn.shape)\n",
    "print(x_churn.shape)\n",
    "print(y_churn.shape)"
   ]
  },
  {
   "cell_type": "markdown",
   "metadata": {},
   "source": [
    "### We can build the train and test set of values. A ratio 60% - 40% is taken"
   ]
  },
  {
   "cell_type": "code",
   "execution_count": 46,
   "metadata": {},
   "outputs": [
    {
     "name": "stdout",
     "output_type": "stream",
     "text": [
      "1121\n",
      "1401\n"
     ]
    }
   ],
   "source": [
    "train_ratio = 0.6\n",
    "split_churn = int(x_churn.shape[0]*train_ratio)\n",
    "split_no_churn = int(x_no_churn.shape[0]*0.75)\n",
    "print(split_churn)\n",
    "print(split_no_churn)\n",
    "\n",
    "# Train set\n",
    "x_train = np.concatenate((x_no_churn[:split_no_churn, :], x_churn[:split_churn, :]), axis=0)\n",
    "y_train = np.concatenate((y_no_churn[:split_no_churn], y_churn[:split_churn]))\n",
    "\n",
    "randomize3 = np.arange(x_train.shape[0])\n",
    "np.random.shuffle(randomize3)\n",
    "x_train = x_train[randomize3]\n",
    "y_train = y_train[randomize3]\n",
    "\n",
    "# Test set\n",
    "x_test = np.concatenate((x_no_churn[split_no_churn:, :], x_churn[split_churn:, :]), axis=0)\n",
    "y_test = np.concatenate((y_no_churn[split_no_churn:], y_churn[split_churn:]))\n",
    "\n",
    "randomize4 = np.arange(x_test.shape[0])\n",
    "np.random.shuffle(randomize4)\n",
    "x_train = x_test[randomize4]\n",
    "y_train = y_test[randomize4]"
   ]
  },
  {
   "cell_type": "markdown",
   "metadata": {},
   "source": [
    "### Finally, we scale the data to the same scale and we perform a PCA. It requires 10 variables to define 90% of the variance"
   ]
  },
  {
   "cell_type": "code",
   "execution_count": 47,
   "metadata": {},
   "outputs": [
    {
     "data": {
      "image/png": "[encoded data removed]",
      "text/plain": [
       "<Figure size 864x504 with 1 Axes>"
      ]
     },
     "metadata": {
      "needs_background": "light"
     },
     "output_type": "display_data"
    },
    {
     "name": "stdout",
     "output_type": "stream",
     "text": [
      "(1216, 19)\n",
      "PCA\n",
      "(1216, 10)\n"
     ]
    }
   ],
   "source": [
    "scaler = MinMaxScaler()\n",
    "scaler.fit(x_train)\n",
    "scaled_x_train = scaler.transform(x_train)\n",
    "scaled_x_test = scaler.transform(x_test)\n",
    "\n",
    "pca = PCA()\n",
    "pca.fit(scaled_x_train)\n",
    "var_explained=np.cumsum(pca.explained_variance_ratio_)\n",
    "\n",
    "plt.figure(figsize=(12, 7))\n",
    "ax = sns.scatterplot(data=var_explained)\n",
    "ax.set(xlabel='N componants', ylabel='Explained var')\n",
    "plt.title(\"PCA-transformed explained cumulated var\")\n",
    "plt.show()\n",
    "\n",
    "pca = PCA(n_components=10)\n",
    "pca.fit(scaled_x_train)\n",
    "var_explained=np.cumsum(pca.explained_variance_ratio_)\n",
    "\n",
    "input_x_train = pca.transform(scaled_x_train)\n",
    "input_x_test = pca.transform(scaled_x_test)\n",
    "\n",
    "print(scaled_x_test.shape)\n",
    "print(\"PCA\")\n",
    "print(input_x_test.shape)"
   ]
  },
  {
   "cell_type": "markdown",
   "metadata": {},
   "source": [
    "# Classification"
   ]
  },
  {
   "cell_type": "markdown",
   "metadata": {},
   "source": [
    "## In this section, several classification method are used (logistic regression and closest neighbors). The results are analysed with the confusion matrix and the ROC curves"
   ]
  },
  {
   "cell_type": "markdown",
   "metadata": {},
   "source": [
    "### We test different solvers with the logistic regression, the best results were obtained with the solver lbfgs compare to solvers 'newton-cg' 'liblinear', ‘sag’, ‘saga’ \""
   ]
  },
  {
   "cell_type": "code",
   "execution_count": 48,
   "metadata": {},
   "outputs": [],
   "source": [
    "from sklearn.linear_model import LogisticRegression\n",
    "clf = LogisticRegression(random_state=0, solver = 'liblinear').fit(input_x_train, y_train)\n",
    "y_pred = clf.predict(input_x_test)"
   ]
  },
  {
   "cell_type": "markdown",
   "metadata": {},
   "source": [
    "### We build some functions to analyse the results and plot the confusion matrix"
   ]
  },
  {
   "cell_type": "code",
   "execution_count": 49,
   "metadata": {},
   "outputs": [],
   "source": [
    "def result_analysis(y: np.ndarray, y_pred: np.ndarray): #Fonction Analyse de Précision, renvoi recall, précision et F-Score \n",
    "    Recall = recall_score(y,y_pred) #true positif/(true positif+false negatif)\n",
    "    Precision = precision_score(y,y_pred) #=true positif/(true positif+false positive)\n",
    "    Fscore = 2*(Precision*Recall)/(Precision+Recall) #Classique Classifier score\n",
    "    return(Recall, Precision, Fscore)\n",
    "\n",
    "def Confusion(y: np.ndarray, y_pred: np.ndarray): #Renvoie la matrice de Confusion pour notre prédiction (à utiliser que pour avoir l'image de la matrice de confusion, donc sur le meilleur classifier)\n",
    "    Conf = confusion_matrix(y, y_pred)\n",
    "    Confshow = skplt.metrics.plot_confusion_matrix(y, y_pred, normalize=True)"
   ]
  },
  {
   "cell_type": "markdown",
   "metadata": {},
   "source": [
    "### The results of the logistic regression is more accurate to predict if a person will churn than if a person will stay in the company. Indeed, the classifier predicted correctly only 65% of the people that were staying in the company wheras it predicts correctly the 89% of the people that were leaving. Therefore, it tends to be more pessimist than it is in reality."
   ]
  },
  {
   "cell_type": "code",
   "execution_count": 50,
   "metadata": {},
   "outputs": [
    {
     "name": "stdout",
     "output_type": "stream",
     "text": [
      "Precision : 78.3625730994152 % \n",
      "Fscore : 0.8359326263256395\n"
     ]
    },
    {
     "data": {
      "image/png": "[encoded data removed]",
      "text/plain": [
       "<Figure size 432x288 with 2 Axes>"
      ]
     },
     "metadata": {
      "needs_background": "light"
     },
     "output_type": "display_data"
    }
   ],
   "source": [
    "(Recall, Precision, Fscore) = result_analysis(y_test, y_pred)\n",
    "\n",
    "print(\"Precision :\", Precision*100,\"% \")\n",
    "print(\"Fscore :\", Fscore)\n",
    "#print(\"Mean of\" ,np.mean(y_test)*100,\"% have truly churned whereas\", np.mean(y_pred)*100, \"% is predicted\")\n",
    "\n",
    "Confusion(y_test, y_pred)"
   ]
  },
  {
   "cell_type": "markdown",
   "metadata": {},
   "source": [
    "### To draw comparisons with the former classifier, a closest neighbors classification is performed. First of all, 1 neighbor is taken, then it is increased up to 10."
   ]
  },
  {
   "cell_type": "code",
   "execution_count": 34,
   "metadata": {},
   "outputs": [
    {
     "name": "stdout",
     "output_type": "stream",
     "text": [
      "Precision : 100.0 % \n",
      "Fscore : 0.9979906229068988\n"
     ]
    },
    {
     "data": {
      "image/png": "[encoded data removed]",
      "text/plain": [
       "<Figure size 432x288 with 2 Axes>"
      ]
     },
     "metadata": {
      "needs_background": "light"
     },
     "output_type": "display_data"
    }
   ],
   "source": [
    "\n",
    "classifier = KNeighborsClassifier(n_neighbors=1)\n",
    "classifier.fit(input_x_train, y_train)\n",
    "y_guessed = classifier.predict(input_x_test)\n",
    "\n",
    "(Recall, Precision, Fscore) = result_analysis(y_test, y_guessed)  #Result Analysis KNN\n",
    "\n",
    "print(\"Precision :\", Precision*100,\"% \")\n",
    "print(\"Fscore :\", Fscore)\n",
    "\n",
    "Confusion(y_test, y_guessed)"
   ]
  },
  {
   "cell_type": "code",
   "execution_count": 33,
   "metadata": {},
   "outputs": [
    {
     "data": {
      "image/png": "[encoded data removed]",
      "text/plain": [
       "<Figure size 432x288 with 1 Axes>"
      ]
     },
     "metadata": {
      "needs_background": "light"
     },
     "output_type": "display_data"
    }
   ],
   "source": [
    "# Cedric Benoit\n",
    "for i in range(1, 10):\n",
    "    classifier = KNeighborsClassifier(n_neighbors=i)\n",
    "    classifier.fit(input_x_train, y_train)\n",
    "    y_guessed = classifier.predict(input_x_test)\n",
    "    \n",
    "    fpr, tpr, thresholds = metrics.roc_curve(y_test, y_guessed)\n",
    "    plt.plot(fpr, tpr)\n",
    "plt.legend(['Neighbors = 1', 'Neighbors = 2', 'Neighbors = 3', 'Neighbors = 4', 'Neighbors = 5',\n",
    "            'Neighbors = 6', 'Neighbors = 7', 'Neighbors = 8', 'Neighbors = 9', 'Neighbors = 10'])\n",
    "plt.show()\n",
    "\n",
    "    #(Recall, Precision, Fscore) = result_analysis(y_test, y_guessed)  #Result Analysis KNN\n",
    "    #print(\"Precision :\", Precision*100,\"% \")\n",
    "    #print(\"Fscore :\", Fscore)\n",
    "    #Confusion(y_test, y_guessed)"
   ]
  },
  {
   "cell_type": "code",
   "execution_count": null,
   "metadata": {},
   "outputs": [],
   "source": []
  }
 ],
 "metadata": {
  "kernelspec": {
   "display_name": "Python 3",
   "language": "python",
   "name": "python3"
  },
  "language_info": {
   "codemirror_mode": {
    "name": "ipython",
    "version": 3
   },
   "file_extension": ".py",
   "mimetype": "text/x-python",
   "name": "python",
   "nbconvert_exporter": "python",
   "pygments_lexer": "ipython3",
   "version": "3.7.4"
  }
 },
 "nbformat": 4,
 "nbformat_minor": 4
}
