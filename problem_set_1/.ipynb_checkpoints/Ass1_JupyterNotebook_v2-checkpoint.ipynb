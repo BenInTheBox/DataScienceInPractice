{
 "cells": [
  {
   "cell_type": "markdown",
   "metadata": {},
   "source": [
    "# Assignement 1, Data science in practice, MGT-415, 08.03.2020\n",
    "### Aubry Yannick, Fontannaz Benoît, Muret Gabriel Pierre Etienne, Tedeschi Julien Brian, Terrier Cédric"
   ]
  },
  {
   "cell_type": "code",
   "execution_count": 1,
   "metadata": {},
   "outputs": [],
   "source": [
    "import pandas as pd\n",
    "import numpy as np\n",
    "import matplotlib.pyplot as plt\n",
    "import seaborn as sns\n",
    "from src import functions"
   ]
  },
  {
   "cell_type": "markdown",
   "metadata": {},
   "source": [
    "## Import Data"
   ]
  },
  {
   "cell_type": "code",
   "execution_count": 2,
   "metadata": {},
   "outputs": [],
   "source": [
    "data = pd.read_csv(\"customers.csv\")"
   ]
  },
  {
   "cell_type": "markdown",
   "metadata": {},
   "source": [
    "## Cleaning Dataset to keep only active loyal members"
   ]
  },
  {
   "cell_type": "code",
   "execution_count": 3,
   "metadata": {},
   "outputs": [],
   "source": [
    "data['TotalCharges'] = data['TotalCharges'].replace(\" \", np.nan).astype('float32') # Force empty values to be \"Nan\"\n",
    "data_cleaned = data[data['Churn'] == 'No'].reset_index()"
   ]
  },
  {
   "cell_type": "markdown",
   "metadata": {},
   "source": [
    "## Description of the dataset\n",
    "### Here we provide some information about the dataset"
   ]
  },
  {
   "cell_type": "code",
   "execution_count": 4,
   "metadata": {},
   "outputs": [
    {
     "name": "stdout",
     "output_type": "stream",
     "text": [
      "   index  customerID  gender  SeniorCitizen Partner Dependents  tenure  \\\n",
      "0      0  7590-VHVEG  Female              0     Yes         No       1   \n",
      "1      1  5575-GNVDE    Male              0      No         No      34   \n",
      "2      3  7795-CFOCW    Male              0      No         No      45   \n",
      "3      6  1452-KIOVK    Male              0      No        Yes      22   \n",
      "4      7  6713-OKOMC  Female              0      No         No      10   \n",
      "\n",
      "  PhoneService     MultipleLines InternetService  ... DeviceProtection  \\\n",
      "0           No  No phone service             DSL  ...               No   \n",
      "1          Yes                No             DSL  ...              Yes   \n",
      "2           No  No phone service             DSL  ...              Yes   \n",
      "3          Yes               Yes     Fiber optic  ...               No   \n",
      "4           No  No phone service             DSL  ...               No   \n",
      "\n",
      "  TechSupport StreamingTV StreamingMovies        Contract PaperlessBilling  \\\n",
      "0          No          No              No  Month-to-month              Yes   \n",
      "1          No          No              No        One year               No   \n",
      "2         Yes          No              No        One year               No   \n",
      "3          No         Yes              No  Month-to-month              Yes   \n",
      "4          No          No              No  Month-to-month               No   \n",
      "\n",
      "               PaymentMethod MonthlyCharges TotalCharges  Churn  \n",
      "0           Electronic check          29.85    29.850000     No  \n",
      "1               Mailed check          56.95  1889.500000     No  \n",
      "2  Bank transfer (automatic)          42.30  1840.750000     No  \n",
      "3    Credit card (automatic)          89.10  1949.400024     No  \n",
      "4               Mailed check          29.75   301.899994     No  \n",
      "\n",
      "[5 rows x 22 columns]\n",
      "DataFrame' shape:  (5174, 22)\n",
      "Datasset types: \n",
      " index                 int64\n",
      "customerID           object\n",
      "gender               object\n",
      "SeniorCitizen         int64\n",
      "Partner              object\n",
      "Dependents           object\n",
      "tenure                int64\n",
      "PhoneService         object\n",
      "MultipleLines        object\n",
      "InternetService      object\n",
      "OnlineSecurity       object\n",
      "OnlineBackup         object\n",
      "DeviceProtection     object\n",
      "TechSupport          object\n",
      "StreamingTV          object\n",
      "StreamingMovies      object\n",
      "Contract             object\n",
      "PaperlessBilling     object\n",
      "PaymentMethod        object\n",
      "MonthlyCharges      float64\n",
      "TotalCharges        float32\n",
      "Churn                object\n",
      "dtype: object\n",
      "Object description: \n",
      "         customerID gender Partner Dependents PhoneService MultipleLines  \\\n",
      "count         5174   5174    5174       5174         5174          5174   \n",
      "unique        5174      2       2          2            2             3   \n",
      "top     7636-PEPNS   Male     Yes         No          Yes            No   \n",
      "freq             1   2625    2733       3390         4662          2541   \n",
      "\n",
      "       InternetService OnlineSecurity OnlineBackup DeviceProtection  \\\n",
      "count             5174           5174         5174             5174   \n",
      "unique               3              3            3                3   \n",
      "top                DSL             No          Yes               No   \n",
      "freq              1962           2037         1906             1884   \n",
      "\n",
      "       TechSupport StreamingTV StreamingMovies        Contract  \\\n",
      "count         5174        5174            5174            5174   \n",
      "unique           3           3               3               3   \n",
      "top             No         Yes             Yes  Month-to-month   \n",
      "freq          2027        1893            1914            2220   \n",
      "\n",
      "       PaperlessBilling PaymentMethod Churn  \n",
      "count              5174          5174  5174  \n",
      "unique                2             4     1  \n",
      "top                 Yes  Mailed check    No  \n",
      "freq               2771          1304  5174  \n",
      "Numerical description: \n",
      "              index  SeniorCitizen       tenure  MonthlyCharges  TotalCharges\n",
      "count  5174.000000    5174.000000  5174.000000     5174.000000   5163.000000\n",
      "mean   3508.431001       0.128721    37.569965       61.265124   2555.344238\n",
      "std    2031.712630       0.334923    24.113777       31.092648   2329.457031\n",
      "min       0.000000       0.000000     0.000000       18.250000     18.799999\n",
      "25%    1753.250000       0.000000    15.000000       25.100000    577.825012\n",
      "50%    3501.500000       0.000000    38.000000       64.425000   1683.599976\n",
      "75%    5254.750000       0.000000    61.000000       88.400000   4264.125000\n",
      "max    7042.000000       1.000000    72.000000      118.750000   8672.450195\n"
     ]
    }
   ],
   "source": [
    "functions.describe_dataset(data_cleaned)"
   ]
  },
  {
   "cell_type": "markdown",
   "metadata": {},
   "source": [
    "### We see that total charges is an object but it should be a float, so we check the min to spot empty value. \n",
    "### Then if every value is defined we can convert the column to float"
   ]
  },
  {
   "cell_type": "code",
   "execution_count": null,
   "metadata": {},
   "outputs": [],
   "source": []
  },
  {
   "cell_type": "code",
   "execution_count": 5,
   "metadata": {},
   "outputs": [
    {
     "name": "stdout",
     "output_type": "stream",
     "text": [
      "Total charges min:  18.8\n",
      "0    0\n",
      "1    0\n",
      "2    0\n",
      "3    0\n",
      "4    0\n",
      "5    0\n",
      "6    0\n",
      "7    0\n",
      "8    0\n",
      "9    0\n",
      "Name: SeniorCitizen, dtype: int64\n"
     ]
    }
   ],
   "source": [
    "    \n",
    "    print(\"Total charges min: \", data_cleaned[\"TotalCharges\"].min())\n",
    "    data_cleaned[\"TotalCharges\"] = data_cleaned[\"TotalCharges\"].astype(\"float64\")\n",
    "    print(data_cleaned[\"SeniorCitizen\"].head(10))  # Binary values => object\n",
    "    data_cleaned[\"SeniorCitizen\"] = data_cleaned[\"SeniorCitizen\"].astype(\"object\")\n"
   ]
  },
  {
   "cell_type": "markdown",
   "metadata": {},
   "source": [
    "\n",
    " ### Mean charges are more relevant than monthly charges. Indeed, the monthly charges could have varied through the year of loyalty.\n",
    " ### So we create a new column which is the mean of the TotalCharges column\n"
   ]
  },
  {
   "cell_type": "code",
   "execution_count": 6,
   "metadata": {},
   "outputs": [],
   "source": [
    "data_cleaned[\"MeanMonthlyCharges\"] = data_cleaned[\"TotalCharges\"]/data_cleaned[\"tenure\"]\n"
   ]
  },
  {
   "cell_type": "markdown",
   "metadata": {},
   "source": [
    "\n",
    "### Plot Mean charges vs every object.\n",
    "### The mean charges is very interesting because it is the main source of revenue for the firm.\n"
   ]
  },
  {
   "cell_type": "code",
   "execution_count": null,
   "metadata": {},
   "outputs": [],
   "source": [
    "functions.plot_float_vs_objects(data_cleaned, \"MeanMonthlyCharges\")"
   ]
  },
  {
   "cell_type": "markdown",
   "metadata": {},
   "source": [
    "## Distribution analysis.\n",
    "### Now we do the same as the previous part but for the distribution of continous float columns.\n",
    "    "
   ]
  },
  {
   "cell_type": "code",
   "execution_count": null,
   "metadata": {
    "scrolled": true
   },
   "outputs": [],
   "source": [
    "    functions.plot_distribution(data_cleaned, \"tenure\")\n",
    "    functions.plot_distribution(data_cleaned, \"MeanMonthlyCharges\")\n",
    "\n",
    "    functions.plot_distribution_by(data_cleaned, \"tenure\", \"Contract\")\n",
    "    functions.plot_distribution_by(data_cleaned, \"MeanMonthlyCharges\", \"Contract\")"
   ]
  },
  {
   "cell_type": "markdown",
   "metadata": {},
   "source": [
    "\n",
    "## We propose also a visualisation of the distribution of the tenure and monthly charge in 2D graphs"
   ]
  },
  {
   "cell_type": "code",
   "execution_count": null,
   "metadata": {
    "scrolled": true
   },
   "outputs": [],
   "source": [
    "sns.jointplot(x=data_cleaned.tenure, y=data_cleaned.MeanMonthlyCharges)\n",
    "h=sns.jointplot(x=data_cleaned.tenure, y=data_cleaned.MeanMonthlyCharges, kind='kde')\n",
    "\n",
    "h.ax_joint.set_xlabel('Months')\n",
    "h.ax_joint.set_ylabel('Mean Monthly Charge [$/month]')\n",
    "plt.savefig('MeanMonthlyCharge_Tenure_Style.png')"
   ]
  },
  {
   "cell_type": "markdown",
   "metadata": {},
   "source": [
    "## We propose to bin the data per loyalty into three categories"
   ]
  },
  {
   "cell_type": "code",
   "execution_count": null,
   "metadata": {},
   "outputs": [],
   "source": [
    "bins = np.array([0, 10, 45, data_cleaned['tenure'].max()])\n",
    "group_names = ['New', 'Loyal', 'Very Loyal']\n",
    "labels = pd.cut(data_cleaned['tenure'], bins, labels=group_names)"
   ]
  },
  {
   "cell_type": "markdown",
   "metadata": {},
   "source": [
    "## We analyse if there is a difference in loyalty depending on the gender"
   ]
  },
  {
   "cell_type": "code",
   "execution_count": null,
   "metadata": {},
   "outputs": [],
   "source": [
    "grouped = data_cleaned.groupby([labels, 'gender'])\n",
    "Gender_loyalty = grouped.size().unstack()\n",
    "fig = plt.figure()\n",
    "Gender_loyalty.plot.bar(title='Loyalty by gender')\n",
    "print(Gender_loyalty)"
   ]
  },
  {
   "cell_type": "markdown",
   "metadata": {},
   "source": [
    "## We would like to analyse the types of services used by the customers as a function of their loyalty. Therefore, we will normalize the yes/no data from the phone services using boolean data"
   ]
  },
  {
   "cell_type": "code",
   "execution_count": null,
   "metadata": {},
   "outputs": [],
   "source": [
    "My_dict = {'Yes': 1, 'No': 0}\n",
    "data_cleaned['PhoneService_int'] = data_cleaned['PhoneService'].replace(\"Yes\", 1).replace(\"No\", 0)\n",
    "\n",
    "grouped2 = data_cleaned.groupby(labels)\n",
    "PhoneService_norm = grouped2['PhoneService_int'].sum()/grouped2.size()\n",
    "normed_infos = pd.DataFrame(PhoneService_norm, columns=['Has_PhoneService'])"
   ]
  },
  {
   "cell_type": "markdown",
   "metadata": {},
   "source": [
    "## Getting the proportion on people with internet service"
   ]
  },
  {
   "cell_type": "code",
   "execution_count": null,
   "metadata": {},
   "outputs": [],
   "source": [
    "My_dict2 = {'DSL': 1, 'Fiber optic': 1, 'No': 0}\n",
    "data_cleaned['InternetService_int'] = data_cleaned['InternetService'].map(My_dict2)\n",
    "\n",
    "InternetService_norm = grouped2['InternetService_int'].sum()/grouped2.size()\n",
    "normed_infos['Has_InternetService'] = InternetService_norm\n",
    "\n",
    "\n",
    "props = {\n",
    "    'title': 'Percent of clients who have different services per loyalty',\n",
    "    'ylabel': 'Normalized \"Yes\"'\n",
    "}\n"
   ]
  },
  {
   "cell_type": "markdown",
   "metadata": {},
   "source": [
    "## Analyze the internet services"
   ]
  },
  {
   "cell_type": "code",
   "execution_count": null,
   "metadata": {},
   "outputs": [],
   "source": [
    "\n",
    "data_cleaned_with_internet = data_cleaned[data_cleaned['InternetService'] != 'No']\n",
    "labels2 = pd.cut(data_cleaned_with_internet['tenure'], bins, labels=group_names)\n",
    "grouped3 = data_cleaned_with_internet.groupby(labels2)\n",
    "\n",
    "internet_services_df = normed_infos.copy()\n",
    "\n",
    "for x in data_cleaned.columns[9:15]:\n",
    "    new_col = x + '_int'\n",
    "    data_cleaned_with_internet[new_col] = data_cleaned_with_internet[x].map(My_dict)\n",
    "    \n",
    "    current_norm = grouped3[new_col].sum()/grouped3.size()\n",
    "    internet_services_df['Has_'+x] = current_norm\n",
    "    \n",
    "\n",
    "internet_services_df.drop(columns=['Has_InternetService', 'Has_PhoneService'], inplace=True)\n",
    "\n",
    "props2 = {\n",
    "    'title': 'Percent of clients who have different internet services per loyalty',\n",
    "    'ylabel': 'Normalized \"Yes\"'\n",
    "}\n",
    "\n",
    "\n",
    "fig = plt.figure()\n",
    "ax = fig.add_subplot(1, 1, 1)\n",
    "ax.set(**props)\n",
    "ax.legend(loc='best')\n",
    "internet_services_df.plot.bar(ax=ax, rot=30)"
   ]
  },
  {
   "cell_type": "markdown",
   "metadata": {},
   "source": [
    "# In the following we will analyse the mean charges in relation with the loyalty and other variables"
   ]
  },
  {
   "cell_type": "code",
   "execution_count": null,
   "metadata": {},
   "outputs": [],
   "source": [
    "# money spent per loyalty\n",
    "data_cleaned['Labels'] = labels\n",
    "fig = plt.figure()\n",
    "sns.barplot(x='Labels', y='MeanMonthlyCharges', data=data_cleaned)\n",
    "sns.set(style=\"whitegrid\")\n",
    "plt.title('money spent per loyalty')"
   ]
  },
  {
   "cell_type": "markdown",
   "metadata": {},
   "source": [
    "## Money spent as a function of loyalty and internet connection"
   ]
  },
  {
   "cell_type": "code",
   "execution_count": null,
   "metadata": {},
   "outputs": [],
   "source": [
    "sns.catplot(x='Labels', y='MeanMonthlyCharges', hue='InternetService', kind=\"bar\", data=data_cleaned)\n",
    "sns.set(style=\"whitegrid\")\n",
    "plt.title('Money spent vs loyalty and internet connection')"
   ]
  },
  {
   "cell_type": "markdown",
   "metadata": {},
   "source": [
    "## Do men/women spend more money ?"
   ]
  },
  {
   "cell_type": "code",
   "execution_count": null,
   "metadata": {},
   "outputs": [],
   "source": [
    "sns.catplot(x='Labels', y='MeanMonthlyCharges', hue='gender', kind=\"bar\", data=data_cleaned)\n",
    "sns.set(style=\"whitegrid\")\n",
    "plt.title('Money spent vs gender')"
   ]
  },
  {
   "cell_type": "markdown",
   "metadata": {},
   "source": [
    "## A scatter representation shows that there are only little differences between the gender"
   ]
  },
  {
   "cell_type": "code",
   "execution_count": null,
   "metadata": {},
   "outputs": [],
   "source": [
    "sns.catplot(x='Labels', y='MeanMonthlyCharges', hue='gender', data=data_cleaned)\n",
    "sns.set(style=\"whitegrid\")\n",
    "plt.title('Money spent vs gender (scatter form)')"
   ]
  },
  {
   "cell_type": "markdown",
   "metadata": {},
   "source": [
    "\n",
    "## Does the method of payment affect the monthly charge of the customers"
   ]
  },
  {
   "cell_type": "code",
   "execution_count": null,
   "metadata": {},
   "outputs": [],
   "source": [
    "sns.catplot(x='Labels', y='MeanMonthlyCharges', hue='PaymentMethod', kind=\"bar\", data=data_cleaned)\n",
    "sns.set(style=\"whitegrid\")\n",
    "plt.title('Money spent vs payment method')"
   ]
  },
  {
   "cell_type": "markdown",
   "metadata": {},
   "source": [
    "## The monthly charge versus the senior state"
   ]
  },
  {
   "cell_type": "code",
   "execution_count": null,
   "metadata": {},
   "outputs": [],
   "source": [
    "sns.catplot(x='Labels', y='MeanMonthlyCharges', hue='SeniorCitizen', kind=\"bar\", data=data_cleaned)\n",
    "sns.set(style=\"whitegrid\")\n",
    "plt.title('Money spent vs senior state')"
   ]
  }
 ],
 "metadata": {
  "kernelspec": {
   "display_name": "Python 3",
   "language": "python",
   "name": "python3"
  },
  "language_info": {
   "codemirror_mode": {
    "name": "ipython",
    "version": 3
   },
   "file_extension": ".py",
   "mimetype": "text/x-python",
   "name": "python",
   "nbconvert_exporter": "python",
   "pygments_lexer": "ipython3",
   "version": "3.7.6"
  }
 },
 "nbformat": 4,
 "nbformat_minor": 2
}
