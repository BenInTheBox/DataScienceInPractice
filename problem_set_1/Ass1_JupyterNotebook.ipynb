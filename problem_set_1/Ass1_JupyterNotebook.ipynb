{
 "cells": [
  {
   "cell_type": "code",
   "execution_count": 1,
   "metadata": {},
   "outputs": [],
   "source": [
    "import pandas as pd\n",
    "import numpy as np\n",
    "import matplotlib.pyplot as plt\n",
    "import seaborn as sns\n",
    "\n",
    "\n",
    "from src import functions\n",
    "\n"
   ]
  },
  {
   "cell_type": "markdown",
   "metadata": {},
   "source": [
    "## Import Data"
   ]
  },
  {
   "cell_type": "code",
   "execution_count": 2,
   "metadata": {},
   "outputs": [],
   "source": [
    "data = pd.read_csv(\"customers.csv\")"
   ]
  },
  {
   "cell_type": "markdown",
   "metadata": {},
   "source": [
    "## Cleaning Dataset to keep only active loyal members"
   ]
  },
  {
   "cell_type": "code",
   "execution_count": 3,
   "metadata": {},
   "outputs": [],
   "source": [
    "\n",
    "    data_sorted = data[data['Churn'] == 'Yes'].reset_index()\n",
    "    data_sorted.drop(columns=\"customerID\", inplace=True)  # usless data"
   ]
  },
  {
   "cell_type": "markdown",
   "metadata": {},
   "source": [
    "## Description of the dataset.\n",
    "### In order to be able to work with our dataset, we must know its contents, size, columns, columns type and so on...\n",
    "    "
   ]
  },
  {
   "cell_type": "code",
   "execution_count": 4,
   "metadata": {},
   "outputs": [
    {
     "name": "stdout",
     "output_type": "stream",
     "text": [
      "   index  gender  SeniorCitizen Partner Dependents  tenure PhoneService  \\\n",
      "0      2    Male              0      No         No       2          Yes   \n",
      "1      4  Female              0      No         No       2          Yes   \n",
      "2      5  Female              0      No         No       8          Yes   \n",
      "3      8  Female              0     Yes         No      28          Yes   \n",
      "4     13    Male              0      No         No      49          Yes   \n",
      "\n",
      "  MultipleLines InternetService OnlineSecurity  ... DeviceProtection  \\\n",
      "0            No             DSL            Yes  ...               No   \n",
      "1            No     Fiber optic             No  ...               No   \n",
      "2           Yes     Fiber optic             No  ...              Yes   \n",
      "3           Yes     Fiber optic             No  ...              Yes   \n",
      "4           Yes     Fiber optic             No  ...              Yes   \n",
      "\n",
      "  TechSupport StreamingTV StreamingMovies        Contract PaperlessBilling  \\\n",
      "0          No          No              No  Month-to-month              Yes   \n",
      "1          No          No              No  Month-to-month              Yes   \n",
      "2          No         Yes             Yes  Month-to-month              Yes   \n",
      "3         Yes         Yes             Yes  Month-to-month              Yes   \n",
      "4          No         Yes             Yes  Month-to-month              Yes   \n",
      "\n",
      "               PaymentMethod MonthlyCharges  TotalCharges Churn  \n",
      "0               Mailed check          53.85        108.15   Yes  \n",
      "1           Electronic check          70.70        151.65   Yes  \n",
      "2           Electronic check          99.65         820.5   Yes  \n",
      "3           Electronic check         104.80       3046.05   Yes  \n",
      "4  Bank transfer (automatic)         103.70        5036.3   Yes  \n",
      "\n",
      "[5 rows x 21 columns]\n",
      "DataFrame' shape:  (1869, 21)\n",
      "Datasset types: \n",
      " index                 int64\n",
      "gender               object\n",
      "SeniorCitizen         int64\n",
      "Partner              object\n",
      "Dependents           object\n",
      "tenure                int64\n",
      "PhoneService         object\n",
      "MultipleLines        object\n",
      "InternetService      object\n",
      "OnlineSecurity       object\n",
      "OnlineBackup         object\n",
      "DeviceProtection     object\n",
      "TechSupport          object\n",
      "StreamingTV          object\n",
      "StreamingMovies      object\n",
      "Contract             object\n",
      "PaperlessBilling     object\n",
      "PaymentMethod        object\n",
      "MonthlyCharges      float64\n",
      "TotalCharges         object\n",
      "Churn                object\n",
      "dtype: object\n",
      "Object description: \n",
      "         gender Partner Dependents PhoneService MultipleLines InternetService  \\\n",
      "count     1869    1869       1869         1869          1869            1869   \n",
      "unique       2       2          2            2             3               3   \n",
      "top     Female      No         No          Yes           Yes     Fiber optic   \n",
      "freq       939    1200       1543         1699           850            1297   \n",
      "\n",
      "       OnlineSecurity OnlineBackup DeviceProtection TechSupport StreamingTV  \\\n",
      "count            1869         1869             1869        1869        1869   \n",
      "unique              3            3                3           3           3   \n",
      "top                No           No               No          No          No   \n",
      "freq             1461         1233             1211        1446         942   \n",
      "\n",
      "       StreamingMovies        Contract PaperlessBilling     PaymentMethod  \\\n",
      "count             1869            1869             1869              1869   \n",
      "unique               3               3                2                 4   \n",
      "top                 No  Month-to-month              Yes  Electronic check   \n",
      "freq               938            1655             1400              1071   \n",
      "\n",
      "       TotalCharges Churn  \n",
      "count          1869  1869  \n",
      "unique         1732     1  \n",
      "top            20.2   Yes  \n",
      "freq              6  1869  \n",
      "Numerical description: \n",
      "              index  SeniorCitizen       tenure  MonthlyCharges\n",
      "count  1869.000000    1869.000000  1869.000000     1869.000000\n",
      "mean   3555.795078       0.254682    17.979133       74.441332\n",
      "std    2037.765072       0.435799    19.531123       24.666053\n",
      "min       2.000000       0.000000     1.000000       18.850000\n",
      "25%    1790.000000       0.000000     2.000000       56.150000\n",
      "50%    3580.000000       0.000000    10.000000       79.650000\n",
      "75%    5345.000000       1.000000    29.000000       94.200000\n",
      "max    7041.000000       1.000000    72.000000      118.350000\n"
     ]
    }
   ],
   "source": [
    "functions.describe_dataset(data_sorted)"
   ]
  },
  {
   "cell_type": "markdown",
   "metadata": {},
   "source": [
    "### We see that total charges is an object but it should be a float, so we check the min to spot empty value. \n",
    "### Then if every value is defined we can convert the column to float"
   ]
  },
  {
   "cell_type": "code",
   "execution_count": 5,
   "metadata": {},
   "outputs": [
    {
     "name": "stdout",
     "output_type": "stream",
     "text": [
      "Total charges min:  100.25\n",
      "0    0\n",
      "1    0\n",
      "2    0\n",
      "3    0\n",
      "4    0\n",
      "5    0\n",
      "6    1\n",
      "7    0\n",
      "8    0\n",
      "9    0\n",
      "Name: SeniorCitizen, dtype: int64\n"
     ]
    }
   ],
   "source": [
    "    \n",
    "    print(\"Total charges min: \", data_sorted[\"TotalCharges\"].min())\n",
    "    data_sorted[\"TotalCharges\"] = data_sorted[\"TotalCharges\"].astype(\"float64\")\n",
    "    print(data_sorted[\"SeniorCitizen\"].head(10))  # Binary values => object\n",
    "    data_sorted[\"SeniorCitizen\"] = data_sorted[\"SeniorCitizen\"].astype(\"object\")\n"
   ]
  },
  {
   "cell_type": "markdown",
   "metadata": {},
   "source": [
    "\n",
    " ### Mean charges are more relevant than monthly charges.\n",
    " ### So we create a new column which is the mean of the TotalCharges column\n"
   ]
  },
  {
   "cell_type": "code",
   "execution_count": 6,
   "metadata": {},
   "outputs": [
    {
     "name": "stdout",
     "output_type": "stream",
     "text": [
      "   index  gender SeniorCitizen Partner Dependents  tenure PhoneService  \\\n",
      "0      2    Male             0      No         No       2          Yes   \n",
      "1      4  Female             0      No         No       2          Yes   \n",
      "2      5  Female             0      No         No       8          Yes   \n",
      "3      8  Female             0     Yes         No      28          Yes   \n",
      "4     13    Male             0      No         No      49          Yes   \n",
      "\n",
      "  MultipleLines InternetService OnlineSecurity  ... TechSupport StreamingTV  \\\n",
      "0            No             DSL            Yes  ...          No          No   \n",
      "1            No     Fiber optic             No  ...          No          No   \n",
      "2           Yes     Fiber optic             No  ...          No         Yes   \n",
      "3           Yes     Fiber optic             No  ...         Yes         Yes   \n",
      "4           Yes     Fiber optic             No  ...          No         Yes   \n",
      "\n",
      "  StreamingMovies        Contract PaperlessBilling              PaymentMethod  \\\n",
      "0              No  Month-to-month              Yes               Mailed check   \n",
      "1              No  Month-to-month              Yes           Electronic check   \n",
      "2             Yes  Month-to-month              Yes           Electronic check   \n",
      "3             Yes  Month-to-month              Yes           Electronic check   \n",
      "4             Yes  Month-to-month              Yes  Bank transfer (automatic)   \n",
      "\n",
      "  MonthlyCharges TotalCharges  Churn  MeanMonthlyCharges  \n",
      "0          53.85       108.15    Yes           54.075000  \n",
      "1          70.70       151.65    Yes           75.825000  \n",
      "2          99.65       820.50    Yes          102.562500  \n",
      "3         104.80      3046.05    Yes          108.787500  \n",
      "4         103.70      5036.30    Yes          102.781633  \n",
      "\n",
      "[5 rows x 22 columns]\n",
      "DataFrame' shape:  (1869, 22)\n",
      "Datasset types: \n",
      " index                   int64\n",
      "gender                 object\n",
      "SeniorCitizen          object\n",
      "Partner                object\n",
      "Dependents             object\n",
      "tenure                  int64\n",
      "PhoneService           object\n",
      "MultipleLines          object\n",
      "InternetService        object\n",
      "OnlineSecurity         object\n",
      "OnlineBackup           object\n",
      "DeviceProtection       object\n",
      "TechSupport            object\n",
      "StreamingTV            object\n",
      "StreamingMovies        object\n",
      "Contract               object\n",
      "PaperlessBilling       object\n",
      "PaymentMethod          object\n",
      "MonthlyCharges        float64\n",
      "TotalCharges          float64\n",
      "Churn                  object\n",
      "MeanMonthlyCharges    float64\n",
      "dtype: object\n",
      "Object description: \n",
      "         gender  SeniorCitizen Partner Dependents PhoneService MultipleLines  \\\n",
      "count     1869           1869    1869       1869         1869          1869   \n",
      "unique       2              2       2          2            2             3   \n",
      "top     Female              0      No         No          Yes           Yes   \n",
      "freq       939           1393    1200       1543         1699           850   \n",
      "\n",
      "       InternetService OnlineSecurity OnlineBackup DeviceProtection  \\\n",
      "count             1869           1869         1869             1869   \n",
      "unique               3              3            3                3   \n",
      "top        Fiber optic             No           No               No   \n",
      "freq              1297           1461         1233             1211   \n",
      "\n",
      "       TechSupport StreamingTV StreamingMovies        Contract  \\\n",
      "count         1869        1869            1869            1869   \n",
      "unique           3           3               3               3   \n",
      "top             No          No              No  Month-to-month   \n",
      "freq          1446         942             938            1655   \n",
      "\n",
      "       PaperlessBilling     PaymentMethod Churn  \n",
      "count              1869              1869  1869  \n",
      "unique                2                 4     1  \n",
      "top                 Yes  Electronic check   Yes  \n",
      "freq               1400              1071  1869  \n",
      "Numerical description: \n",
      "              index       tenure  MonthlyCharges  TotalCharges  \\\n",
      "count  1869.000000  1869.000000     1869.000000   1869.000000   \n",
      "mean   3555.795078    17.979133       74.441332   1531.796094   \n",
      "std    2037.765072    19.531123       24.666053   1890.822994   \n",
      "min       2.000000     1.000000       18.850000     18.850000   \n",
      "25%    1790.000000     2.000000       56.150000    134.500000   \n",
      "50%    3580.000000    10.000000       79.650000    703.550000   \n",
      "75%    5345.000000    29.000000       94.200000   2331.300000   \n",
      "max    7041.000000    72.000000      118.350000   8684.800000   \n",
      "\n",
      "       MeanMonthlyCharges  \n",
      "count         1869.000000  \n",
      "mean            74.433154  \n",
      "std             24.961209  \n",
      "min             14.150000  \n",
      "25%             57.975000  \n",
      "50%             79.312500  \n",
      "75%             93.933784  \n",
      "max            121.400000  \n"
     ]
    }
   ],
   "source": [
    "\n",
    "    data_sorted[\"MeanMonthlyCharges\"] = data_sorted[\"TotalCharges\"]/data_sorted[\"tenure\"]\n",
    "    functions.describe_dataset(data_sorted)\n"
   ]
  },
  {
   "cell_type": "markdown",
   "metadata": {},
   "source": [
    "\n",
    "### Plot every object vs Mean charges.\n",
    "### The mean charges is very interesting because if is the main source of revenue for the firm.\n",
    "### So we plot for every obeject column the mean and ???std or quantile + median??? of the tnure for every choice.\n"
   ]
  },
  {
   "cell_type": "code",
   "execution_count": null,
   "metadata": {},
   "outputs": [
    {
     "data": {
      "image/png": "[encoded data removed]",
      "text/plain": [
       "<Figure size 360x360 with 1 Axes>"
      ]
     },
     "metadata": {
      "needs_background": "light"
     },
     "output_type": "display_data"
    }
   ],
   "source": [
    "\n",
    "functions.plot_float_vs_objects(data_sorted, \"MeanMonthlyCharges\")\n"
   ]
  },
  {
   "cell_type": "markdown",
   "metadata": {},
   "source": [
    "## Distribution analysis.\n",
    "### Now we do the same as the previous part but for the distribution of continous float columns.\n",
    "    "
   ]
  },
  {
   "cell_type": "code",
   "execution_count": null,
   "metadata": {
    "scrolled": true
   },
   "outputs": [],
   "source": [
    "    functions.plot_distribution(data_sorted, \"tenure\")\n",
    "    functions.plot_distribution(data_sorted, \"TotalCharges\")\n",
    "    functions.plot_distribution(data_sorted, \"MeanMonthlyCharges\")\n",
    "\n",
    "    functions.plot_distribution_by(data_sorted, \"tenure\", \"Contract\")\n",
    "    functions.plot_distribution_by(data_sorted, \"MeanMonthlyCharges\", \"Contract\")\n",
    "\n",
    "\n"
   ]
  },
  {
   "cell_type": "markdown",
   "metadata": {},
   "source": [
    "## Convert string to int.\n",
    "### In order to be able to use this data in some algorithms we need to convert the object columns into float colums. To de so, we replace each differant choice with an interger."
   ]
  },
  {
   "cell_type": "code",
   "execution_count": null,
   "metadata": {},
   "outputs": [],
   "source": [
    "   data_toint = functions.string_to_int(data_sorted)\n"
   ]
  },
  {
   "cell_type": "markdown",
   "metadata": {},
   "source": [
    "\n",
    "## Correlation analysis.\n",
    "### In order to identify the most important features, we performed a correlation analysis. We can decuce that the correlated options could be a good choice to create pack offers. And also that uncorrelated ones are good candidates for classification.\n",
    "    "
   ]
  },
  {
   "cell_type": "code",
   "execution_count": null,
   "metadata": {},
   "outputs": [],
   "source": [
    "    functions.plot_correlation(data_toint)"
   ]
  },
  {
   "cell_type": "markdown",
   "metadata": {},
   "source": [
    "## data statistical description"
   ]
  },
  {
   "cell_type": "code",
   "execution_count": null,
   "metadata": {},
   "outputs": [],
   "source": [
    "\n",
    "\n",
    "numeric_data_description = data_cleaned.describe(include=['number'])\n",
    "print(numeric_data_description)\n",
    "\n",
    "object_data_description = data_cleaned.describe(include=['object'])\n",
    "print(object_data_description)"
   ]
  },
  {
   "cell_type": "markdown",
   "metadata": {},
   "source": [
    "## See the distribution of the tenure"
   ]
  },
  {
   "cell_type": "code",
   "execution_count": null,
   "metadata": {
    "scrolled": true
   },
   "outputs": [],
   "source": [
    "\n",
    "data_sorted['tenure'].hist(bins=15)\n",
    "plt.title(\"Histogram of tenure\")\n",
    "plt.xlabel('tenure')\n",
    "plt.ylabel('Sum of clients')"
   ]
  },
  {
   "cell_type": "markdown",
   "metadata": {},
   "source": [
    "\n",
    "## See the distribution of the tenure and monthly charge"
   ]
  },
  {
   "cell_type": "code",
   "execution_count": null,
   "metadata": {
    "scrolled": true
   },
   "outputs": [],
   "source": [
    "\n",
    "sns.jointplot(x=data_cleaned.tenure, y=data_cleaned.MonthlyCharges)\n",
    "sns.jointplot(x=data_cleaned.tenure, y=data_cleaned.MonthlyCharges, kind='kde')\n",
    "#plt.title(\"Density plot of the tenure and the monthly charge\")"
   ]
  },
  {
   "cell_type": "markdown",
   "metadata": {},
   "source": [
    "## Binning the data per loyalty"
   ]
  },
  {
   "cell_type": "code",
   "execution_count": null,
   "metadata": {},
   "outputs": [],
   "source": [
    " \n",
    "bins = np.array([0, 10, 45, data_cleaned['tenure'].max()])\n",
    "group_names = ['New', 'Loyal', 'Very Loyal']\n",
    "labels = pd.cut(data_cleaned['tenure'], bins, labels=group_names)"
   ]
  },
  {
   "cell_type": "markdown",
   "metadata": {},
   "source": [
    "## Grouping the data by labels and gender"
   ]
  },
  {
   "cell_type": "code",
   "execution_count": null,
   "metadata": {},
   "outputs": [],
   "source": [
    "\n",
    "grouped = data_cleaned.groupby([labels, 'gender'])\n",
    "Gender_loyalty = grouped.size().unstack()\n",
    "fig = plt.figure()\n",
    "Gender_loyalty.plot.bar(title='Loyalty by gender')\n",
    "print(Gender_loyalty)"
   ]
  },
  {
   "cell_type": "markdown",
   "metadata": {},
   "source": [
    "### From this plot one can observe the distribution of clients within the loyalty classification made above \n",
    "\n",
    "### Getting all the services into one plot \n",
    "### Normalize the services for their binary value \n",
    "### Setting bool to int"
   ]
  },
  {
   "cell_type": "code",
   "execution_count": null,
   "metadata": {},
   "outputs": [],
   "source": [
    "\n",
    "\n",
    "My_dict = {'Yes': 1, 'No': 0}\n",
    "data_cleaned['PhoneService_int'] = data_cleaned['PhoneService'].replace(\"Yes\", 1).replace(\"No\", 0)\n",
    "\n",
    "grouped2 = data_sorted.groupby(labels)\n",
    "PhoneService_norm = grouped2['PhoneService_int'].sum()/grouped2.size()\n",
    "normed_infos = pd.DataFrame(PhoneService_norm, columns=['Has_PhoneService'])"
   ]
  },
  {
   "cell_type": "markdown",
   "metadata": {},
   "source": [
    "## Getting the proportion on people with internet service"
   ]
  },
  {
   "cell_type": "code",
   "execution_count": null,
   "metadata": {},
   "outputs": [],
   "source": [
    "\n",
    "My_dict2 = {'DSL': 1, 'Fiber optic': 1, 'No': 0}\n",
    "data_cleaned['InternetService_int'] = data_cleaned['InternetService'].map(My_dict2)\n",
    "\n",
    "InternetService_norm = grouped2['InternetService_int'].sum()/grouped2.size()\n",
    "normed_infos['Has_InternetService'] = InternetService_norm\n",
    "\n",
    "\n",
    "props = {\n",
    "    'title': 'Percent of clients who have different services per loyalty',\n",
    "    'ylabel': 'Normalized \"Yes\"'\n",
    "}\n",
    "\n",
    "\n",
    "ax = fig.add_subplot(1, 1, 1)\n",
    "ax.set(**props)\n",
    "ax.legend(loc='best')\n",
    "normed_infos.plot.bar(ax=ax, rot=30)"
   ]
  },
  {
   "cell_type": "markdown",
   "metadata": {},
   "source": [
    "## Analyze the internet services"
   ]
  },
  {
   "cell_type": "code",
   "execution_count": null,
   "metadata": {},
   "outputs": [],
   "source": [
    "\n",
    "data_cleaned_with_internet = data_cleaned[data_cleaned['InternetService'] != 'No']\n",
    "labels2 = pd.cut(data_cleaned_with_internet['tenure'], bins, labels=group_names)\n",
    "grouped3 = data_cleaned_with_internet.groupby(labels2)\n",
    "\n",
    "internet_services_df = normed_infos.copy()\n",
    "\n",
    "for x in data_cleaned.columns[9:15]:\n",
    "    new_col = x + '_int'\n",
    "    data_cleaned_with_internet[new_col] = data_cleaned_with_internet[x].map(My_dict)\n",
    "    \n",
    "    current_norm = grouped3[new_col].sum()/grouped3.size()\n",
    "    internet_services_df['Has_'+x] = current_norm\n",
    "    \n",
    "\n",
    "internet_services_df.drop(columns=['Has_InternetService', 'Has_PhoneService'], inplace=True)\n",
    "\n",
    "props2 = {\n",
    "    'title': 'Percent of clients who have different internet services per loyalty',\n",
    "    'ylabel': 'Normalized \"Yes\"'\n",
    "}\n",
    "\n",
    "\n",
    "fig = plt.figure()\n",
    "ax = fig.add_subplot(1, 1, 1)\n",
    "ax.set(**props)\n",
    "ax.legend(loc='best')\n",
    "internet_services_df.plot.bar(ax=ax, rot=30)"
   ]
  },
  {
   "cell_type": "code",
   "execution_count": null,
   "metadata": {},
   "outputs": [],
   "source": [
    "# money spent per loyalty\n",
    "data_cleaned['Labels'] = labels\n",
    "fig = plt.figure()\n",
    "sns.barplot(x='Labels', y='MonthlyCharges', data=data_cleaned)\n",
    "sns.set(style=\"whitegrid\")"
   ]
  },
  {
   "cell_type": "markdown",
   "metadata": {},
   "source": [
    "## money spent as a function of loyalty and internet connection"
   ]
  },
  {
   "cell_type": "code",
   "execution_count": null,
   "metadata": {},
   "outputs": [],
   "source": [
    "\n",
    "sns.catplot(x='Labels', y='MonthlyCharges', hue='InternetService', kind=\"bar\", data=data_cleaned)\n",
    "sns.set(style=\"whitegrid\")"
   ]
  },
  {
   "cell_type": "markdown",
   "metadata": {},
   "source": [
    "## Other representation"
   ]
  },
  {
   "cell_type": "code",
   "execution_count": null,
   "metadata": {},
   "outputs": [],
   "source": [
    "\n",
    "sns.catplot(x='Labels', y='MonthlyCharges', hue='gender', kind=\"bar\", data=data_cleaned)\n",
    "sns.set(style=\"whitegrid\")"
   ]
  },
  {
   "cell_type": "markdown",
   "metadata": {},
   "source": [
    "# Do men/women spend more money ?"
   ]
  },
  {
   "cell_type": "code",
   "execution_count": null,
   "metadata": {},
   "outputs": [],
   "source": [
    "\n",
    "sns.catplot(x='Labels', y='MonthlyCharges', hue='gender', data=data_cleaned)\n",
    "sns.set(style=\"whitegrid\")"
   ]
  },
  {
   "cell_type": "markdown",
   "metadata": {},
   "source": [
    "\n",
    "# does the method of payment affect the monthly charge of the customers"
   ]
  },
  {
   "cell_type": "code",
   "execution_count": null,
   "metadata": {},
   "outputs": [],
   "source": [
    "\n",
    "sns.catplot(x='Labels', y='MonthlyCharges', hue='PaymentMethod', kind=\"bar\", data=data_cleaned)\n",
    "sns.set(style=\"whitegrid\")"
   ]
  },
  {
   "cell_type": "markdown",
   "metadata": {},
   "source": [
    "# the monthly charge versus the senior state"
   ]
  },
  {
   "cell_type": "code",
   "execution_count": null,
   "metadata": {},
   "outputs": [],
   "source": [
    "\n",
    "sns.catplot(x='Labels', y='MonthlyCharges', hue='SeniorCitizen', kind=\"bar\", data=data_cleaned)\n",
    "sns.set(style=\"whitegrid\")"
   ]
  }
 ],
 "metadata": {
  "kernelspec": {
   "display_name": "Python 3",
   "language": "python",
   "name": "python3"
  },
  "language_info": {
   "codemirror_mode": {
    "name": "ipython",
    "version": 3
   },
   "file_extension": ".py",
   "mimetype": "text/x-python",
   "name": "python",
   "nbconvert_exporter": "python",
   "pygments_lexer": "ipython3",
   "version": "3.7.4"
  }
 },
 "nbformat": 4,
 "nbformat_minor": 2
}
