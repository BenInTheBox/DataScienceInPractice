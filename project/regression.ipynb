{
 "cells": [
  {
   "cell_type": "code",
   "execution_count": 1,
   "metadata": {},
   "outputs": [],
   "source": [
    "import numpy as np\n",
    "import sklearn.model_selection as skm\n",
    "import matplotlib.pyplot as plt\n",
    "%matplotlib inline\n",
    "import sys\n",
    "from imblearn.over_sampling import SMOTE\n"
   ]
  },
  {
   "cell_type": "code",
   "execution_count": 2,
   "metadata": {},
   "outputs": [],
   "source": [
    "x = np.random.rand(300, 10)\n",
    "y = np.random.rand(300,1)"
   ]
  },
  {
   "cell_type": "code",
   "execution_count": 3,
   "metadata": {},
   "outputs": [],
   "source": [
    "# Train test split\n",
    "train_test_ratio = 0.8\n",
    "x_train, x_test, y_train, y_test = skm.train_test_split(x, y, train_size = train_test_ratio)"
   ]
  },
  {
   "cell_type": "code",
   "execution_count": 4,
   "metadata": {},
   "outputs": [],
   "source": [
    "# If there is an unbalanced important binary variables\n",
    "# smote = SMOTE(sampling_strategy=0.5)\n",
    "# rand_sampler = RandomUnderSampler(sampling_strategy=0.3)\n",
    "# pipeline = Pipeline(steps=[smote, rand_sampler])\n",
    "# X, y = pipeline.fit_resample(X, y)\n",
    "# other_variables = X.drop(columns='unbalanced_variable')\n",
    "# other_variables, X('unbalanced_variable') = smote.fit_sample(other_variables, unbalanced_variable)"
   ]
  },
  {
   "cell_type": "code",
   "execution_count": 5,
   "metadata": {},
   "outputs": [],
   "source": [
    "# Train folding (cross-val)\n",
    "n_folding = 10\n",
    "x_train_folding = np.split(x_train, n_folding) # you can access each subarray using X_train_folding[i]\n",
    "y_train_folding = np.split(y_train, n_folding)"
   ]
  },
  {
   "cell_type": "code",
   "execution_count": 6,
   "metadata": {},
   "outputs": [
    {
     "name": "stdout",
     "output_type": "stream",
     "text": [
      "[[ 0. 11. 92. 85.  5. 48. 11. 63. 55. 74.]\n",
      " [87. 39. 59. 12. 54. 96. 85. 15. 34. 22.]\n",
      " [31. 83. 78. 22. 36.  7. 12. 23. 98. 35.]\n",
      " [68. 38. 70. 84. 87. 54. 61. 32. 38. 91.]\n",
      " [35. 89. 30. 66.  6. 56. 12. 65. 87.  3.]\n",
      " [15. 15. 86. 75. 58. 50. 36. 28. 26. 34.]\n",
      " [83. 42. 41. 28. 49.  9. 48.  7. 52. 64.]\n",
      " [40. 66. 14. 15. 23. 77. 20. 68. 30. 85.]\n",
      " [36. 12. 97.  7. 65. 83. 40. 62. 94. 55.]\n",
      " [32. 52.  4. 50. 91. 58. 32. 54.  9.  3.]]\n"
     ]
    }
   ],
   "source": [
    "parameters = [x for x in range(10)]\n",
    "mse_report = np.zeros((len(parameters), n_folding))\n",
    "\n",
    "for i in range(n_folding):\n",
    "    for j, par in enumerate(parameters):\n",
    "        #create x y\n",
    "        #fit model on every fold as train except i as test\n",
    "        #model predict\n",
    "        mse_report[j, i] = np.random.randint(100) # evalutate(y, y_hat)\n",
    "        \n",
    "print(mse_report)"
   ]
  },
  {
   "cell_type": "code",
   "execution_count": 7,
   "metadata": {},
   "outputs": [
    {
     "name": "stdout",
     "output_type": "stream",
     "text": [
      "[44.4 50.3 42.5 62.3 44.9 42.3 42.3 43.8 55.1 38.5]\n"
     ]
    }
   ],
   "source": [
    "mu_perf = np.mean(mse_report, axis=1)\n",
    "print(mu_perf)"
   ]
  },
  {
   "cell_type": "code",
   "execution_count": 8,
   "metadata": {},
   "outputs": [
    {
     "name": "stdout",
     "output_type": "stream",
     "text": [
      "[33.19096263 29.38724213 30.33562262 20.41102643 30.59558792 23.13892824\n",
      " 22.04563449 26.07604264 29.92808046 26.63925675]\n"
     ]
    }
   ],
   "source": [
    "std_perf = np.std(mse_report, axis=1)\n",
    "print(std_perf)"
   ]
  },
  {
   "cell_type": "code",
   "execution_count": 9,
   "metadata": {},
   "outputs": [
    {
     "name": "stdout",
     "output_type": "stream",
     "text": [
      "[92. 96. 98. 91. 89. 86. 83. 85. 97. 91.]\n"
     ]
    }
   ],
   "source": [
    "max_perf = np.max(mse_report, axis=1)\n",
    "print(max_perf)"
   ]
  },
  {
   "cell_type": "code",
   "execution_count": 10,
   "metadata": {},
   "outputs": [
    {
     "name": "stdout",
     "output_type": "stream",
     "text": [
      "[ 0. 12.  7. 32.  3. 15.  7. 14.  7.  3.]\n"
     ]
    }
   ],
   "source": [
    "min_perf = np.min(mse_report, axis=1)\n",
    "print(min_perf)"
   ]
  },
  {
   "cell_type": "code",
   "execution_count": 11,
   "metadata": {},
   "outputs": [
    {
     "data": {
      "text/plain": [
       "{'whiskers': [<matplotlib.lines.Line2D at 0x1a1fe5e210>,\n",
       "  <matplotlib.lines.Line2D at 0x1a1e612f10>,\n",
       "  <matplotlib.lines.Line2D at 0x1a1fe81cd0>,\n",
       "  <matplotlib.lines.Line2D at 0x1a1fe88d10>,\n",
       "  <matplotlib.lines.Line2D at 0x1a1fea25d0>,\n",
       "  <matplotlib.lines.Line2D at 0x1a1fea2ad0>,\n",
       "  <matplotlib.lines.Line2D at 0x1a1feb49d0>,\n",
       "  <matplotlib.lines.Line2D at 0x1a1feb4ed0>,\n",
       "  <matplotlib.lines.Line2D at 0x1a1fec3d90>,\n",
       "  <matplotlib.lines.Line2D at 0x1a1fec3dd0>,\n",
       "  <matplotlib.lines.Line2D at 0x1a1fed4c10>,\n",
       "  <matplotlib.lines.Line2D at 0x1a1fedc690>,\n",
       "  <matplotlib.lines.Line2D at 0x1a1feee510>,\n",
       "  <matplotlib.lines.Line2D at 0x1a1feeea10>,\n",
       "  <matplotlib.lines.Line2D at 0x1a1ff00890>,\n",
       "  <matplotlib.lines.Line2D at 0x1a1ff00d90>,\n",
       "  <matplotlib.lines.Line2D at 0x1a1fec3850>,\n",
       "  <matplotlib.lines.Line2D at 0x1a1ff08d50>,\n",
       "  <matplotlib.lines.Line2D at 0x1a1ff22e90>,\n",
       "  <matplotlib.lines.Line2D at 0x1a1ff13c50>],\n",
       " 'caps': [<matplotlib.lines.Line2D at 0x1a1fe81750>,\n",
       "  <matplotlib.lines.Line2D at 0x1a1fe81c50>,\n",
       "  <matplotlib.lines.Line2D at 0x1a1fe90c50>,\n",
       "  <matplotlib.lines.Line2D at 0x1a1fe88190>,\n",
       "  <matplotlib.lines.Line2D at 0x1a1fea2b10>,\n",
       "  <matplotlib.lines.Line2D at 0x1a1feaa550>,\n",
       "  <matplotlib.lines.Line2D at 0x1a1fe9ad10>,\n",
       "  <matplotlib.lines.Line2D at 0x1a1febc910>,\n",
       "  <matplotlib.lines.Line2D at 0x1a1fecd7d0>,\n",
       "  <matplotlib.lines.Line2D at 0x1a1fea2b50>,\n",
       "  <matplotlib.lines.Line2D at 0x1a1fedcb90>,\n",
       "  <matplotlib.lines.Line2D at 0x1a1fed4c50>,\n",
       "  <matplotlib.lines.Line2D at 0x1a1feeef10>,\n",
       "  <matplotlib.lines.Line2D at 0x1a1fedcc10>,\n",
       "  <matplotlib.lines.Line2D at 0x1a1fef9ed0>,\n",
       "  <matplotlib.lines.Line2D at 0x1a1ff087d0>,\n",
       "  <matplotlib.lines.Line2D at 0x1a1ff1b5d0>,\n",
       "  <matplotlib.lines.Line2D at 0x1a1ff1bad0>,\n",
       "  <matplotlib.lines.Line2D at 0x1a1ff2c8d0>,\n",
       "  <matplotlib.lines.Line2D at 0x1a1ff2cdd0>],\n",
       " 'boxes': [<matplotlib.lines.Line2D at 0x1a1fe6c150>,\n",
       "  <matplotlib.lines.Line2D at 0x1a1fe88c90>,\n",
       "  <matplotlib.lines.Line2D at 0x1a1fe90cd0>,\n",
       "  <matplotlib.lines.Line2D at 0x1a1feb4450>,\n",
       "  <matplotlib.lines.Line2D at 0x1a1fec37d0>,\n",
       "  <matplotlib.lines.Line2D at 0x1a1fed4b90>,\n",
       "  <matplotlib.lines.Line2D at 0x1a1fee7f50>,\n",
       "  <matplotlib.lines.Line2D at 0x1a1feeef90>,\n",
       "  <matplotlib.lines.Line2D at 0x1a1febce90>,\n",
       "  <matplotlib.lines.Line2D at 0x1a1fec34d0>],\n",
       " 'medians': [<matplotlib.lines.Line2D at 0x1a1fe6ce10>,\n",
       "  <matplotlib.lines.Line2D at 0x1a1fe9a690>,\n",
       "  <matplotlib.lines.Line2D at 0x1a1feaa590>,\n",
       "  <matplotlib.lines.Line2D at 0x1a1febce10>,\n",
       "  <matplotlib.lines.Line2D at 0x1a1fe9ac10>,\n",
       "  <matplotlib.lines.Line2D at 0x1a1fee75d0>,\n",
       "  <matplotlib.lines.Line2D at 0x1a1fef9950>,\n",
       "  <matplotlib.lines.Line2D at 0x1a1ff08cd0>,\n",
       "  <matplotlib.lines.Line2D at 0x1a1ff1bfd0>,\n",
       "  <matplotlib.lines.Line2D at 0x1a1ff22f10>],\n",
       " 'fliers': [<matplotlib.lines.Line2D at 0x1a1fe886d0>,\n",
       "  <matplotlib.lines.Line2D at 0x1a1fe9ab90>,\n",
       "  <matplotlib.lines.Line2D at 0x1a1feaaa90>,\n",
       "  <matplotlib.lines.Line2D at 0x1a1feb4f50>,\n",
       "  <matplotlib.lines.Line2D at 0x1a1fed46d0>,\n",
       "  <matplotlib.lines.Line2D at 0x1a1fee7ad0>,\n",
       "  <matplotlib.lines.Line2D at 0x1a1fef9e50>,\n",
       "  <matplotlib.lines.Line2D at 0x1a1ff00e10>,\n",
       "  <matplotlib.lines.Line2D at 0x1a1fecdd50>,\n",
       "  <matplotlib.lines.Line2D at 0x1a1ff33810>],\n",
       " 'means': []}"
      ]
     },
     "execution_count": 11,
     "metadata": {},
     "output_type": "execute_result"
    },
    {
     "data": {
      "image/png": "[encoded data removed]",
      "text/plain": [
       "<Figure size 432x288 with 1 Axes>"
      ]
     },
     "metadata": {
      "needs_background": "light"
     },
     "output_type": "display_data"
    }
   ],
   "source": [
    "plt.boxplot(mse_report.T)"
   ]
  },
  {
   "cell_type": "code",
   "execution_count": null,
   "metadata": {},
   "outputs": [],
   "source": []
  }
 ],
 "metadata": {
  "kernelspec": {
   "display_name": "Python 3",
   "language": "python",
   "name": "python3"
  },
  "language_info": {
   "codemirror_mode": {
    "name": "ipython",
    "version": 3
   },
   "file_extension": ".py",
   "mimetype": "text/x-python",
   "name": "python",
   "nbconvert_exporter": "python",
   "pygments_lexer": "ipython3",
   "version": "3.7.4"
  }
 },
 "nbformat": 4,
 "nbformat_minor": 4
}
