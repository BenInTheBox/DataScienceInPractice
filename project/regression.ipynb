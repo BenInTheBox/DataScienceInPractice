{
 "cells": [
  {
   "cell_type": "code",
   "execution_count": 10,
   "metadata": {},
   "outputs": [],
   "source": [
    "import numpy as np\n",
    "import sklearn.model_selection as skm\n",
    "import matplotlib.pyplot as plt\n",
    "%matplotlib inline\n",
    "import sys\n",
    "from imblearn.over_sampling import SMOTE\n"
   ]
  },
  {
   "cell_type": "code",
   "execution_count": 11,
   "metadata": {},
   "outputs": [],
   "source": [
    "x = np.random.rand(300, 10)\n",
    "y = np.random.rand(300, 5)"
   ]
  },
  {
   "cell_type": "code",
   "execution_count": 12,
   "metadata": {},
   "outputs": [],
   "source": [
    "# Train test split\n",
    "train_test_ratio = 0.8\n",
    "x_train, x_test, y_train, y_test = skm.train_test_split(x, y, train_size = train_test_ratio)"
   ]
  },
  {
   "cell_type": "code",
   "execution_count": 13,
   "metadata": {},
   "outputs": [],
   "source": [
    "# If undersampled sets\n",
    "#smote = SMOTE(ratio='minority')\n",
    "#x_train_smote, y_train_smote = smote.fit_sample(x_train, y_train)"
   ]
  },
  {
   "cell_type": "code",
   "execution_count": 14,
   "metadata": {},
   "outputs": [],
   "source": [
    "# Train folding (cross-val)\n",
    "n_folding = 10\n",
    "x_train_folding = np.split(x_train, n_folding) # you can access each subarray using X_train_folding[i]\n",
    "y_train_folding = np.split(y_train, n_folding)"
   ]
  },
  {
   "cell_type": "code",
   "execution_count": 15,
   "metadata": {},
   "outputs": [
    {
     "name": "stdout",
     "output_type": "stream",
     "text": [
      "[[94.  1. 13. 53.  8. 43. 83. 76. 32. 74.]\n",
      " [23. 58. 29. 84. 43. 27. 12. 35. 25. 58.]\n",
      " [63.  0. 42. 78. 41. 98. 49. 58. 45. 95.]\n",
      " [77. 74. 17. 58. 14. 96. 85. 48. 51. 67.]\n",
      " [91. 44. 69. 58. 36. 29. 71.  8. 67. 11.]\n",
      " [22. 72. 12. 17. 80. 88. 19. 58. 74. 71.]\n",
      " [ 5. 35. 83. 72. 96. 54. 40. 94. 48. 42.]\n",
      " [28. 47. 52. 90. 76. 70. 12. 58.  2. 83.]\n",
      " [25. 41. 51. 64. 76. 74. 32. 67. 59. 40.]\n",
      " [73. 69. 77. 51. 32. 15. 45.  0. 18. 49.]]\n"
     ]
    }
   ],
   "source": [
    "parameters = [x for x in range(10)]\n",
    "mse_report = np.zeros((len(parameters), n_folding))\n",
    "\n",
    "for i in range(n_folding):\n",
    "    for j, par in enumerate(parameters):\n",
    "        #create x y\n",
    "        #fit model on every fold as train except i as test\n",
    "        #model predict\n",
    "        mse_report[j, i] = np.random.randint(100) # evalutate(y, y_hat)\n",
    "        \n",
    "print(mse_report)"
   ]
  },
  {
   "cell_type": "code",
   "execution_count": 16,
   "metadata": {},
   "outputs": [
    {
     "name": "stdout",
     "output_type": "stream",
     "text": [
      "[47.7 39.4 56.9 58.7 48.4 51.3 56.9 51.8 52.9 42.9]\n"
     ]
    }
   ],
   "source": [
    "mu_perf = np.mean(mse_report, axis=1)\n",
    "print(mu_perf)"
   ]
  },
  {
   "cell_type": "code",
   "execution_count": 17,
   "metadata": {},
   "outputs": [
    {
     "name": "stdout",
     "output_type": "stream",
     "text": [
      "[31.84352367 20.4997561  27.46069919 25.75286392 26.01614883 28.58338678\n",
      " 27.53706593 28.357715   16.92601548 24.92970116]\n"
     ]
    }
   ],
   "source": [
    "std_perf = np.std(mse_report, axis=1)\n",
    "print(std_perf)"
   ]
  },
  {
   "cell_type": "code",
   "execution_count": 18,
   "metadata": {},
   "outputs": [
    {
     "name": "stdout",
     "output_type": "stream",
     "text": [
      "[94. 84. 98. 96. 91. 88. 96. 90. 76. 77.]\n"
     ]
    }
   ],
   "source": [
    "max_perf = np.max(mse_report, axis=1)\n",
    "print(max_perf)"
   ]
  },
  {
   "cell_type": "code",
   "execution_count": 19,
   "metadata": {},
   "outputs": [
    {
     "name": "stdout",
     "output_type": "stream",
     "text": [
      "[ 1. 12.  0. 14.  8. 12.  5.  2. 25.  0.]\n"
     ]
    }
   ],
   "source": [
    "min_perf = np.min(mse_report, axis=1)\n",
    "print(min_perf)"
   ]
  },
  {
   "cell_type": "code",
   "execution_count": 20,
   "metadata": {},
   "outputs": [
    {
     "data": {
      "text/plain": [
       "{'whiskers': [<matplotlib.lines.Line2D at 0x1a1b833e50>,\n",
       "  <matplotlib.lines.Line2D at 0x1a1b146c10>,\n",
       "  <matplotlib.lines.Line2D at 0x1a1b844c10>,\n",
       "  <matplotlib.lines.Line2D at 0x1a1b85cb10>,\n",
       "  <matplotlib.lines.Line2D at 0x1a1b864f90>,\n",
       "  <matplotlib.lines.Line2D at 0x1a1b875890>,\n",
       "  <matplotlib.lines.Line2D at 0x1a1b885790>,\n",
       "  <matplotlib.lines.Line2D at 0x1a1b885c90>,\n",
       "  <matplotlib.lines.Line2D at 0x1a1b894b50>,\n",
       "  <matplotlib.lines.Line2D at 0x1a1b894c10>,\n",
       "  <matplotlib.lines.Line2D at 0x1a1b8a5a50>,\n",
       "  <matplotlib.lines.Line2D at 0x1a1b8a5f10>,\n",
       "  <matplotlib.lines.Line2D at 0x1a1b8aded0>,\n",
       "  <matplotlib.lines.Line2D at 0x1a1b8bc7d0>,\n",
       "  <matplotlib.lines.Line2D at 0x1a1b8cd650>,\n",
       "  <matplotlib.lines.Line2D at 0x1a1b8cdb50>,\n",
       "  <matplotlib.lines.Line2D at 0x1a1b894690>,\n",
       "  <matplotlib.lines.Line2D at 0x1a1b8dee50>,\n",
       "  <matplotlib.lines.Line2D at 0x1a1b8edc50>,\n",
       "  <matplotlib.lines.Line2D at 0x1a1b8deed0>],\n",
       " 'caps': [<matplotlib.lines.Line2D at 0x1a1b856590>,\n",
       "  <matplotlib.lines.Line2D at 0x1a1b856a90>,\n",
       "  <matplotlib.lines.Line2D at 0x1a1b864a10>,\n",
       "  <matplotlib.lines.Line2D at 0x1a1b864f10>,\n",
       "  <matplotlib.lines.Line2D at 0x1a1b875950>,\n",
       "  <matplotlib.lines.Line2D at 0x1a1b87c3d0>,\n",
       "  <matplotlib.lines.Line2D at 0x1a1b87cdd0>,\n",
       "  <matplotlib.lines.Line2D at 0x1a1b88d6d0>,\n",
       "  <matplotlib.lines.Line2D at 0x1a1b89d590>,\n",
       "  <matplotlib.lines.Line2D at 0x1a1b875dd0>,\n",
       "  <matplotlib.lines.Line2D at 0x1a1b8ad950>,\n",
       "  <matplotlib.lines.Line2D at 0x1a1b8ade50>,\n",
       "  <matplotlib.lines.Line2D at 0x1a1b8bccd0>,\n",
       "  <matplotlib.lines.Line2D at 0x1a1b8b5dd0>,\n",
       "  <matplotlib.lines.Line2D at 0x1a1b8c6c90>,\n",
       "  <matplotlib.lines.Line2D at 0x1a1b8d5590>,\n",
       "  <matplotlib.lines.Line2D at 0x1a1b8cdbd0>,\n",
       "  <matplotlib.lines.Line2D at 0x1a1b8e5890>,\n",
       "  <matplotlib.lines.Line2D at 0x1a1b8f5690>,\n",
       "  <matplotlib.lines.Line2D at 0x1a1b8f5b90>],\n",
       " 'boxes': [<matplotlib.lines.Line2D at 0x1a1b833e10>,\n",
       "  <matplotlib.lines.Line2D at 0x1a1b85ca50>,\n",
       "  <matplotlib.lines.Line2D at 0x1a1b86edd0>,\n",
       "  <matplotlib.lines.Line2D at 0x1a1b875e50>,\n",
       "  <matplotlib.lines.Line2D at 0x1a1b894590>,\n",
       "  <matplotlib.lines.Line2D at 0x1a1b8a5950>,\n",
       "  <matplotlib.lines.Line2D at 0x1a1b8b5d10>,\n",
       "  <matplotlib.lines.Line2D at 0x1a1b8bcd50>,\n",
       "  <matplotlib.lines.Line2D at 0x1a1b87ced0>,\n",
       "  <matplotlib.lines.Line2D at 0x1a1b894290>],\n",
       " 'medians': [<matplotlib.lines.Line2D at 0x1a1b856fd0>,\n",
       "  <matplotlib.lines.Line2D at 0x1a1b856f90>,\n",
       "  <matplotlib.lines.Line2D at 0x1a1b87c850>,\n",
       "  <matplotlib.lines.Line2D at 0x1a1b88dbd0>,\n",
       "  <matplotlib.lines.Line2D at 0x1a1b89df50>,\n",
       "  <matplotlib.lines.Line2D at 0x1a1b8a5f90>,\n",
       "  <matplotlib.lines.Line2D at 0x1a1b8c6710>,\n",
       "  <matplotlib.lines.Line2D at 0x1a1b8d5a90>,\n",
       "  <matplotlib.lines.Line2D at 0x1a1b8e5d90>,\n",
       "  <matplotlib.lines.Line2D at 0x1a1b8edcd0>],\n",
       " 'fliers': [<matplotlib.lines.Line2D at 0x1a1b85c510>,\n",
       "  <matplotlib.lines.Line2D at 0x1a1b86e950>,\n",
       "  <matplotlib.lines.Line2D at 0x1a1b87cd50>,\n",
       "  <matplotlib.lines.Line2D at 0x1a1b885d10>,\n",
       "  <matplotlib.lines.Line2D at 0x1a1b8a5490>,\n",
       "  <matplotlib.lines.Line2D at 0x1a1b8b5890>,\n",
       "  <matplotlib.lines.Line2D at 0x1a1b8c6c10>,\n",
       "  <matplotlib.lines.Line2D at 0x1a1b8d5f90>,\n",
       "  <matplotlib.lines.Line2D at 0x1a1b86ee90>,\n",
       "  <matplotlib.lines.Line2D at 0x1a1b8fd5d0>],\n",
       " 'means': []}"
      ]
     },
     "execution_count": 20,
     "metadata": {},
     "output_type": "execute_result"
    },
    {
     "data": {
      "image/png": "[encoded data removed]",
      "text/plain": [
       "<Figure size 432x288 with 1 Axes>"
      ]
     },
     "metadata": {
      "needs_background": "light"
     },
     "output_type": "display_data"
    }
   ],
   "source": [
    "plt.boxplot(mse_report.T)"
   ]
  },
  {
   "cell_type": "code",
   "execution_count": null,
   "metadata": {},
   "outputs": [],
   "source": []
  }
 ],
 "metadata": {
  "kernelspec": {
   "display_name": "Python 3",
   "language": "python",
   "name": "python3"
  },
  "language_info": {
   "codemirror_mode": {
    "name": "ipython",
    "version": 3
   },
   "file_extension": ".py",
   "mimetype": "text/x-python",
   "name": "python",
   "nbconvert_exporter": "python",
   "pygments_lexer": "ipython3",
   "version": "3.7.4"
  }
 },
 "nbformat": 4,
 "nbformat_minor": 4
}
