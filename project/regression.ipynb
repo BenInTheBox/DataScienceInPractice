{
 "cells": [
  {
   "cell_type": "code",
   "execution_count": 1,
   "metadata": {},
   "outputs": [],
   "source": [
    "import numpy as np\n",
    "import matplotlib.pyplot as plt\n",
    "%matplotlib inline"
   ]
  },
  {
   "cell_type": "code",
   "execution_count": 2,
   "metadata": {},
   "outputs": [],
   "source": [
    "x = np.random.rand(3000, 30)\n",
    "y = np.random.rand(3000, 1)"
   ]
  },
  {
   "cell_type": "code",
   "execution_count": 3,
   "metadata": {},
   "outputs": [],
   "source": [
    "# Train test split\n",
    "train_test_ratio = 0.8"
   ]
  },
  {
   "cell_type": "code",
   "execution_count": 4,
   "metadata": {},
   "outputs": [],
   "source": [
    "# Train folding (cross-val)\n",
    "n = 10"
   ]
  },
  {
   "cell_type": "code",
   "execution_count": 5,
   "metadata": {},
   "outputs": [
    {
     "name": "stdout",
     "output_type": "stream",
     "text": [
      "[[0. 0. 0. 0. 0. 0. 0. 0. 0. 0.]\n",
      " [0. 0. 0. 0. 0. 0. 0. 0. 0. 0.]\n",
      " [0. 0. 0. 0. 0. 0. 0. 0. 0. 0.]\n",
      " [0. 0. 0. 0. 0. 0. 0. 0. 0. 0.]\n",
      " [0. 0. 0. 0. 0. 0. 0. 0. 0. 0.]\n",
      " [0. 0. 0. 0. 0. 0. 0. 0. 0. 0.]\n",
      " [0. 0. 0. 0. 0. 0. 0. 0. 0. 0.]\n",
      " [0. 0. 0. 0. 0. 0. 0. 0. 0. 0.]\n",
      " [0. 0. 0. 0. 0. 0. 0. 0. 0. 0.]\n",
      " [0. 0. 0. 0. 0. 0. 0. 0. 0. 0.]]\n",
      "[[14. 37. 45.  4. 10. 65. 57. 98. 10. 82.]\n",
      " [65. 13. 27. 29. 65. 59.  4. 59. 63. 37.]\n",
      " [92. 85. 62. 33. 98. 46. 25. 18. 47. 43.]\n",
      " [29. 71. 80. 19. 89. 80. 99. 53. 75. 81.]\n",
      " [70. 19. 35. 78. 83. 68. 14. 23. 55. 99.]\n",
      " [81. 69. 20. 67. 84. 54. 44. 97. 79. 88.]\n",
      " [39. 67. 38. 41. 52. 18. 32. 17. 49. 41.]\n",
      " [ 7. 68. 81. 67. 23. 18. 27. 29. 32. 95.]\n",
      " [81. 76.  2. 61. 95. 87. 39. 83. 84. 62.]\n",
      " [ 7. 78. 22. 89. 99. 45. 96. 86. 92. 68.]]\n"
     ]
    }
   ],
   "source": [
    "parameters = [x for x in range(10)]\n",
    "mse_report = np.zeros((len(parameters), n))\n",
    "\n",
    "for i in range(n):\n",
    "    for j, par in enumerate(parameters):\n",
    "        #create x y\n",
    "        #fit model on every fold as train except i as test\n",
    "        #model predict\n",
    "        mse_report[j, i] = np.random.randint(100) # evalutate(y, y_hat)\n",
    "        \n",
    "print(mse_report)"
   ]
  },
  {
   "cell_type": "code",
   "execution_count": 6,
   "metadata": {},
   "outputs": [
    {
     "name": "stdout",
     "output_type": "stream",
     "text": [
      "[42.2 42.1 54.9 67.6 54.4 68.3 39.4 44.7 67.  68.2]\n"
     ]
    }
   ],
   "source": [
    "mu_perf = np.mean(mse_report, axis=1)\n",
    "print(mu_perf)"
   ]
  },
  {
   "cell_type": "code",
   "execution_count": 7,
   "metadata": {},
   "outputs": [
    {
     "name": "stdout",
     "output_type": "stream",
     "text": [
      "[31.3043128  21.86526926 26.84939478 24.62194143 28.35559909 22.05470471\n",
      " 14.26323946 28.66025122 26.60075187 30.90566291]\n"
     ]
    }
   ],
   "source": [
    "std_perf = np.std(mse_report, axis=1)\n",
    "print(std_perf)"
   ]
  },
  {
   "cell_type": "code",
   "execution_count": 8,
   "metadata": {},
   "outputs": [
    {
     "name": "stdout",
     "output_type": "stream",
     "text": [
      "[98. 65. 98. 99. 99. 97. 67. 95. 95. 99.]\n"
     ]
    }
   ],
   "source": [
    "max_perf = np.max(mse_report, axis=1)\n",
    "print(max_perf)"
   ]
  },
  {
   "cell_type": "code",
   "execution_count": 9,
   "metadata": {},
   "outputs": [
    {
     "name": "stdout",
     "output_type": "stream",
     "text": [
      "[ 4.  4. 18. 19. 14. 20. 17.  7.  2.  7.]\n"
     ]
    }
   ],
   "source": [
    "min_perf = np.min(mse_report, axis=1)\n",
    "print(min_perf)"
   ]
  },
  {
   "cell_type": "code",
   "execution_count": 10,
   "metadata": {},
   "outputs": [
    {
     "data": {
      "text/plain": [
       "{'whiskers': [<matplotlib.lines.Line2D at 0x7f24152379e8>,\n",
       "  <matplotlib.lines.Line2D at 0x7f2415237d68>,\n",
       "  <matplotlib.lines.Line2D at 0x7f241525e320>,\n",
       "  <matplotlib.lines.Line2D at 0x7f241525e6a0>,\n",
       "  <matplotlib.lines.Line2D at 0x7f2415267be0>,\n",
       "  <matplotlib.lines.Line2D at 0x7f2415267f60>,\n",
       "  <matplotlib.lines.Line2D at 0x7f24151fe4e0>,\n",
       "  <matplotlib.lines.Line2D at 0x7f24151fe860>,\n",
       "  <matplotlib.lines.Line2D at 0x7f2415208da0>,\n",
       "  <matplotlib.lines.Line2D at 0x7f2415216160>,\n",
       "  <matplotlib.lines.Line2D at 0x7f24152206a0>,\n",
       "  <matplotlib.lines.Line2D at 0x7f2415220a20>,\n",
       "  <matplotlib.lines.Line2D at 0x7f241522ef60>,\n",
       "  <matplotlib.lines.Line2D at 0x7f24151b7320>,\n",
       "  <matplotlib.lines.Line2D at 0x7f24151c3860>,\n",
       "  <matplotlib.lines.Line2D at 0x7f24151c3be0>,\n",
       "  <matplotlib.lines.Line2D at 0x7f24151d9160>,\n",
       "  <matplotlib.lines.Line2D at 0x7f24151d94e0>,\n",
       "  <matplotlib.lines.Line2D at 0x7f24151e3a20>,\n",
       "  <matplotlib.lines.Line2D at 0x7f24151e3da0>],\n",
       " 'caps': [<matplotlib.lines.Line2D at 0x7f2415252128>,\n",
       "  <matplotlib.lines.Line2D at 0x7f24152524a8>,\n",
       "  <matplotlib.lines.Line2D at 0x7f241525ea20>,\n",
       "  <matplotlib.lines.Line2D at 0x7f241525eda0>,\n",
       "  <matplotlib.lines.Line2D at 0x7f24151f2320>,\n",
       "  <matplotlib.lines.Line2D at 0x7f24151f26a0>,\n",
       "  <matplotlib.lines.Line2D at 0x7f24151febe0>,\n",
       "  <matplotlib.lines.Line2D at 0x7f24151fef60>,\n",
       "  <matplotlib.lines.Line2D at 0x7f24152164e0>,\n",
       "  <matplotlib.lines.Line2D at 0x7f2415216860>,\n",
       "  <matplotlib.lines.Line2D at 0x7f2415220da0>,\n",
       "  <matplotlib.lines.Line2D at 0x7f241522e160>,\n",
       "  <matplotlib.lines.Line2D at 0x7f24151b76a0>,\n",
       "  <matplotlib.lines.Line2D at 0x7f24151b7a20>,\n",
       "  <matplotlib.lines.Line2D at 0x7f24151c3f60>,\n",
       "  <matplotlib.lines.Line2D at 0x7f24151cd320>,\n",
       "  <matplotlib.lines.Line2D at 0x7f24151d9860>,\n",
       "  <matplotlib.lines.Line2D at 0x7f24151d9be0>,\n",
       "  <matplotlib.lines.Line2D at 0x7f24151ef160>,\n",
       "  <matplotlib.lines.Line2D at 0x7f24151ef4e0>],\n",
       " 'boxes': [<matplotlib.lines.Line2D at 0x7f24152376d8>,\n",
       "  <matplotlib.lines.Line2D at 0x7f2415252f60>,\n",
       "  <matplotlib.lines.Line2D at 0x7f2415267828>,\n",
       "  <matplotlib.lines.Line2D at 0x7f24151fe128>,\n",
       "  <matplotlib.lines.Line2D at 0x7f24152089e8>,\n",
       "  <matplotlib.lines.Line2D at 0x7f24152202e8>,\n",
       "  <matplotlib.lines.Line2D at 0x7f241522eba8>,\n",
       "  <matplotlib.lines.Line2D at 0x7f24151c34a8>,\n",
       "  <matplotlib.lines.Line2D at 0x7f24151cdd68>,\n",
       "  <matplotlib.lines.Line2D at 0x7f24151e3668>],\n",
       " 'medians': [<matplotlib.lines.Line2D at 0x7f2415252828>,\n",
       "  <matplotlib.lines.Line2D at 0x7f2415267160>,\n",
       "  <matplotlib.lines.Line2D at 0x7f24151f2a20>,\n",
       "  <matplotlib.lines.Line2D at 0x7f2415208320>,\n",
       "  <matplotlib.lines.Line2D at 0x7f2415216be0>,\n",
       "  <matplotlib.lines.Line2D at 0x7f241522e4e0>,\n",
       "  <matplotlib.lines.Line2D at 0x7f24151b7da0>,\n",
       "  <matplotlib.lines.Line2D at 0x7f24151cd6a0>,\n",
       "  <matplotlib.lines.Line2D at 0x7f24151d9f60>,\n",
       "  <matplotlib.lines.Line2D at 0x7f24151ef860>],\n",
       " 'fliers': [<matplotlib.lines.Line2D at 0x7f2415252ba8>,\n",
       "  <matplotlib.lines.Line2D at 0x7f24152674e0>,\n",
       "  <matplotlib.lines.Line2D at 0x7f24151f2da0>,\n",
       "  <matplotlib.lines.Line2D at 0x7f24152086a0>,\n",
       "  <matplotlib.lines.Line2D at 0x7f2415216f60>,\n",
       "  <matplotlib.lines.Line2D at 0x7f241522e860>,\n",
       "  <matplotlib.lines.Line2D at 0x7f24151c3160>,\n",
       "  <matplotlib.lines.Line2D at 0x7f24151cda20>,\n",
       "  <matplotlib.lines.Line2D at 0x7f24151e3320>,\n",
       "  <matplotlib.lines.Line2D at 0x7f24151efbe0>],\n",
       " 'means': []}"
      ]
     },
     "execution_count": 10,
     "metadata": {},
     "output_type": "execute_result"
    },
    {
     "data": {
      "image/png": "[encoded data removed]",
      "text/plain": [
       "<Figure size 432x288 with 1 Axes>"
      ]
     },
     "metadata": {
      "needs_background": "light"
     },
     "output_type": "display_data"
    }
   ],
   "source": [
    "plt.boxplot(mse_report.T)"
   ]
  },
  {
   "cell_type": "code",
   "execution_count": null,
   "metadata": {},
   "outputs": [],
   "source": []
  }
 ],
 "metadata": {
  "kernelspec": {
   "display_name": "Python 3",
   "language": "python",
   "name": "python3"
  },
  "language_info": {
   "codemirror_mode": {
    "name": "ipython",
    "version": 3
   },
   "file_extension": ".py",
   "mimetype": "text/x-python",
   "name": "python",
   "nbconvert_exporter": "python",
   "pygments_lexer": "ipython3",
   "version": "3.6.9"
  }
 },
 "nbformat": 4,
 "nbformat_minor": 4
}
