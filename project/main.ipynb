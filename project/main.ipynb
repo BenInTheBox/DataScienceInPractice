{
 "cells": [
  {
   "cell_type": "markdown",
   "metadata": {},
   "source": [
    "# House price regression\n",
    "\n",
    "The main goal of this project is to estimate the sale price of real estate\n",
    "\n",
    "## Problem\n",
    "We got hired by a real estate investor in order to propose him a software solution to estimate quickly the value of housholds. The goal of this application is to scan the whole real estate market in order to indentify undervaluate household.\n",
    "\n",
    "## Solution\n",
    "To answer this problem, we propose a regression algorithm that will estimate the value of household given some specific properties. Then by comparing the estimate value against the market value, we'll be able to spot investment opportunities"
   ]
  },
  {
   "cell_type": "code",
   "execution_count": 1,
   "metadata": {},
   "outputs": [],
   "source": [
    "import numpy as np"
   ]
  },
  {
   "cell_type": "code",
   "execution_count": 2,
   "metadata": {},
   "outputs": [
    {
     "name": "stderr",
     "output_type": "stream",
     "text": [
      "\n",
      "Bad key \"text.dvipnghack\" on line 127 in\n",
      "/home/benoit/.local/lib/python3.6/site-packages/matplotlib/mpl-data/stylelib/_classic_test.mplstyle.\n",
      "You probably need to get an updated matplotlibrc file from\n",
      "https://github.com/matplotlib/matplotlib/blob/v3.2.1/matplotlibrc.template\n",
      "or from the matplotlib source distribution\n",
      "\n",
      "Bad key \"nbagg.transparent\" on line 433 in\n",
      "/home/benoit/.local/lib/python3.6/site-packages/matplotlib/mpl-data/stylelib/_classic_test.mplstyle.\n",
      "You probably need to get an updated matplotlibrc file from\n",
      "https://github.com/matplotlib/matplotlib/blob/v3.2.1/matplotlibrc.template\n",
      "or from the matplotlib source distribution\n",
      "\n",
      "Bad key \"animation.mencoder_path\" on line 516 in\n",
      "/home/benoit/.local/lib/python3.6/site-packages/matplotlib/mpl-data/stylelib/_classic_test.mplstyle.\n",
      "You probably need to get an updated matplotlibrc file from\n",
      "https://github.com/matplotlib/matplotlib/blob/v3.2.1/matplotlibrc.template\n",
      "or from the matplotlib source distribution\n",
      "\n",
      "Bad key \"animation.mencoder_args\" on line 519 in\n",
      "/home/benoit/.local/lib/python3.6/site-packages/matplotlib/mpl-data/stylelib/_classic_test.mplstyle.\n",
      "You probably need to get an updated matplotlibrc file from\n",
      "https://github.com/matplotlib/matplotlib/blob/v3.2.1/matplotlibrc.template\n",
      "or from the matplotlib source distribution\n",
      "In /home/benoit/.local/lib/python3.6/site-packages/matplotlib/mpl-data/stylelib/_classic_test.mplstyle: \n",
      "The text.latex.unicode rcparam was deprecated in Matplotlib 3.0 and will be removed in 3.2.\n",
      "In /home/benoit/.local/lib/python3.6/site-packages/matplotlib/mpl-data/stylelib/_classic_test.mplstyle: \n",
      "The savefig.frameon rcparam was deprecated in Matplotlib 3.1 and will be removed in 3.3.\n",
      "In /home/benoit/.local/lib/python3.6/site-packages/matplotlib/mpl-data/stylelib/_classic_test.mplstyle: \n",
      "The pgf.debug rcparam was deprecated in Matplotlib 3.0 and will be removed in 3.2.\n",
      "In /home/benoit/.local/lib/python3.6/site-packages/matplotlib/mpl-data/stylelib/_classic_test.mplstyle: \n",
      "The verbose.level rcparam was deprecated in Matplotlib 3.1 and will be removed in 3.3.\n",
      "In /home/benoit/.local/lib/python3.6/site-packages/matplotlib/mpl-data/stylelib/_classic_test.mplstyle: \n",
      "The verbose.fileo rcparam was deprecated in Matplotlib 3.1 and will be removed in 3.3.\n",
      "/home/benoit/.local/lib/python3.6/site-packages/statsmodels/tools/_testing.py:19: FutureWarning: pandas.util.testing is deprecated. Use the functions in the public API at pandas.testing instead.\n",
      "  import pandas.util.testing as tm\n"
     ]
    }
   ],
   "source": [
    "import pandas as pd\n",
    "import matplotlib.pyplot as plt\n",
    "%matplotlib inline\n",
    "import seaborn as sns\n",
    "import random\n",
    "from sklearn.model_selection import train_test_split\n",
    "from sklearn import preprocessing\n",
    "from sklearn.model_selection import ShuffleSplit\n",
    "from sklearn.model_selection import cross_val_score\n",
    "from sklearn import svm\n",
    "from sklearn.neighbors import KNeighborsRegressor\n",
    "from sklearn.neural_network import MLPRegressor\n",
    "from sklearn.metrics import mean_squared_error, r2_score"
   ]
  },
  {
   "cell_type": "markdown",
   "metadata": {},
   "source": [
    "### Data import, cleaning and analysis\n",
    "The first step would be to import the data in order to prepare it for the algorithm.\n",
    "To do so, we'll start by importing the data and list every feature"
   ]
  },
  {
   "cell_type": "code",
   "execution_count": 3,
   "metadata": {},
   "outputs": [
    {
     "name": "stdout",
     "output_type": "stream",
     "text": [
      "Id :  int64          Ex:  1     Number of NaN:  0\n",
      "MSSubClass :  int64          Ex:  60     Number of NaN:  0\n",
      "MSZoning :  object          Ex:  RL     Number of NaN:  0\n",
      "LotFrontage :  float64          Ex:  65.0     Number of NaN:  259\n",
      "LotArea :  int64          Ex:  8450     Number of NaN:  0\n",
      "Street :  object          Ex:  Pave     Number of NaN:  0\n",
      "Alley :  object          Ex:  nan     Number of NaN:  1369\n",
      "LotShape :  object          Ex:  Reg     Number of NaN:  0\n",
      "LandContour :  object          Ex:  Lvl     Number of NaN:  0\n",
      "Utilities :  object          Ex:  AllPub     Number of NaN:  0\n",
      "LotConfig :  object          Ex:  Inside     Number of NaN:  0\n",
      "LandSlope :  object          Ex:  Gtl     Number of NaN:  0\n",
      "Neighborhood :  object          Ex:  CollgCr     Number of NaN:  0\n",
      "Condition1 :  object          Ex:  Norm     Number of NaN:  0\n",
      "Condition2 :  object          Ex:  Norm     Number of NaN:  0\n",
      "BldgType :  object          Ex:  1Fam     Number of NaN:  0\n",
      "HouseStyle :  object          Ex:  2Story     Number of NaN:  0\n",
      "OverallQual :  int64          Ex:  7     Number of NaN:  0\n",
      "OverallCond :  int64          Ex:  5     Number of NaN:  0\n",
      "YearBuilt :  int64          Ex:  2003     Number of NaN:  0\n",
      "YearRemodAdd :  int64          Ex:  2003     Number of NaN:  0\n",
      "RoofStyle :  object          Ex:  Gable     Number of NaN:  0\n",
      "RoofMatl :  object          Ex:  CompShg     Number of NaN:  0\n",
      "Exterior1st :  object          Ex:  VinylSd     Number of NaN:  0\n",
      "Exterior2nd :  object          Ex:  VinylSd     Number of NaN:  0\n",
      "MasVnrType :  object          Ex:  BrkFace     Number of NaN:  8\n",
      "MasVnrArea :  float64          Ex:  196.0     Number of NaN:  8\n",
      "ExterQual :  object          Ex:  Gd     Number of NaN:  0\n",
      "ExterCond :  object          Ex:  TA     Number of NaN:  0\n",
      "Foundation :  object          Ex:  PConc     Number of NaN:  0\n",
      "BsmtQual :  object          Ex:  Gd     Number of NaN:  37\n",
      "BsmtCond :  object          Ex:  TA     Number of NaN:  37\n",
      "BsmtExposure :  object          Ex:  No     Number of NaN:  38\n",
      "BsmtFinType1 :  object          Ex:  GLQ     Number of NaN:  37\n",
      "BsmtFinSF1 :  int64          Ex:  706     Number of NaN:  0\n",
      "BsmtFinType2 :  object          Ex:  Unf     Number of NaN:  38\n",
      "BsmtFinSF2 :  int64          Ex:  0     Number of NaN:  0\n",
      "BsmtUnfSF :  int64          Ex:  150     Number of NaN:  0\n",
      "TotalBsmtSF :  int64          Ex:  856     Number of NaN:  0\n",
      "Heating :  object          Ex:  GasA     Number of NaN:  0\n",
      "HeatingQC :  object          Ex:  Ex     Number of NaN:  0\n",
      "CentralAir :  object          Ex:  Y     Number of NaN:  0\n",
      "Electrical :  object          Ex:  SBrkr     Number of NaN:  1\n",
      "1stFlrSF :  int64          Ex:  856     Number of NaN:  0\n",
      "2ndFlrSF :  int64          Ex:  854     Number of NaN:  0\n",
      "LowQualFinSF :  int64          Ex:  0     Number of NaN:  0\n",
      "GrLivArea :  int64          Ex:  1710     Number of NaN:  0\n",
      "BsmtFullBath :  int64          Ex:  1     Number of NaN:  0\n",
      "BsmtHalfBath :  int64          Ex:  0     Number of NaN:  0\n",
      "FullBath :  int64          Ex:  2     Number of NaN:  0\n",
      "HalfBath :  int64          Ex:  1     Number of NaN:  0\n",
      "BedroomAbvGr :  int64          Ex:  3     Number of NaN:  0\n",
      "KitchenAbvGr :  int64          Ex:  1     Number of NaN:  0\n",
      "KitchenQual :  object          Ex:  Gd     Number of NaN:  0\n",
      "TotRmsAbvGrd :  int64          Ex:  8     Number of NaN:  0\n",
      "Functional :  object          Ex:  Typ     Number of NaN:  0\n",
      "Fireplaces :  int64          Ex:  0     Number of NaN:  0\n",
      "FireplaceQu :  object          Ex:  nan     Number of NaN:  690\n",
      "GarageType :  object          Ex:  Attchd     Number of NaN:  81\n",
      "GarageYrBlt :  float64          Ex:  2003.0     Number of NaN:  81\n",
      "GarageFinish :  object          Ex:  RFn     Number of NaN:  81\n",
      "GarageCars :  int64          Ex:  2     Number of NaN:  0\n",
      "GarageArea :  int64          Ex:  548     Number of NaN:  0\n",
      "GarageQual :  object          Ex:  TA     Number of NaN:  81\n",
      "GarageCond :  object          Ex:  TA     Number of NaN:  81\n",
      "PavedDrive :  object          Ex:  Y     Number of NaN:  0\n",
      "WoodDeckSF :  int64          Ex:  0     Number of NaN:  0\n",
      "OpenPorchSF :  int64          Ex:  61     Number of NaN:  0\n",
      "EnclosedPorch :  int64          Ex:  0     Number of NaN:  0\n",
      "3SsnPorch :  int64          Ex:  0     Number of NaN:  0\n",
      "ScreenPorch :  int64          Ex:  0     Number of NaN:  0\n",
      "PoolArea :  int64          Ex:  0     Number of NaN:  0\n",
      "PoolQC :  object          Ex:  nan     Number of NaN:  1453\n",
      "Fence :  object          Ex:  nan     Number of NaN:  1179\n",
      "MiscFeature :  object          Ex:  nan     Number of NaN:  1406\n",
      "MiscVal :  int64          Ex:  0     Number of NaN:  0\n",
      "MoSold :  int64          Ex:  2     Number of NaN:  0\n",
      "YrSold :  int64          Ex:  2008     Number of NaN:  0\n",
      "SaleType :  object          Ex:  WD     Number of NaN:  0\n",
      "SaleCondition :  object          Ex:  Normal     Number of NaN:  0\n",
      "SalePrice :  int64          Ex:  208500     Number of NaN:  0\n"
     ]
    }
   ],
   "source": [
    "data = pd.read_csv('train.csv')\n",
    "for name,dtype in zip(data.columns, data.dtypes):\n",
    "    print(name,\": \", dtype, \"         Ex: \", data[name].iloc[0], \"    Number of NaN: \", data[name].isnull().sum())"
   ]
  },
  {
   "cell_type": "markdown",
   "metadata": {},
   "source": [
    "Given this analysis, we can notice that some features doesn't contain any valuable information\n",
    "Those features are:\n",
    "- Id\n",
    "- ...\n",
    "\n",
    "In addition of that, we notice that there is many missing values. The job here would be to differanciate missing values (errors in the dataset) from the absence of the concernate feature in the house.\n",
    "\n",
    "In the first case, we'll remove the row.\n",
    "\n",
    "In the second case, we'll considere any object that can be absent as added value, and thus replacing NaNs by zero."
   ]
  },
  {
   "cell_type": "code",
   "execution_count": 4,
   "metadata": {},
   "outputs": [
    {
     "data": {
      "text/html": [
       "<div>\n",
       "<style scoped>\n",
       "    .dataframe tbody tr th:only-of-type {\n",
       "        vertical-align: middle;\n",
       "    }\n",
       "\n",
       "    .dataframe tbody tr th {\n",
       "        vertical-align: top;\n",
       "    }\n",
       "\n",
       "    .dataframe thead th {\n",
       "        text-align: right;\n",
       "    }\n",
       "</style>\n",
       "<table border=\"1\" class=\"dataframe\">\n",
       "  <thead>\n",
       "    <tr style=\"text-align: right;\">\n",
       "      <th></th>\n",
       "      <th>MSZoning</th>\n",
       "      <th>Street</th>\n",
       "      <th>Alley</th>\n",
       "      <th>LotShape</th>\n",
       "      <th>LandContour</th>\n",
       "      <th>Utilities</th>\n",
       "      <th>LotConfig</th>\n",
       "      <th>LandSlope</th>\n",
       "      <th>Neighborhood</th>\n",
       "      <th>Condition1</th>\n",
       "      <th>...</th>\n",
       "      <th>GarageType</th>\n",
       "      <th>GarageFinish</th>\n",
       "      <th>GarageQual</th>\n",
       "      <th>GarageCond</th>\n",
       "      <th>PavedDrive</th>\n",
       "      <th>PoolQC</th>\n",
       "      <th>Fence</th>\n",
       "      <th>MiscFeature</th>\n",
       "      <th>SaleType</th>\n",
       "      <th>SaleCondition</th>\n",
       "    </tr>\n",
       "  </thead>\n",
       "  <tbody>\n",
       "    <tr>\n",
       "      <th>count</th>\n",
       "      <td>1460</td>\n",
       "      <td>1460</td>\n",
       "      <td>91</td>\n",
       "      <td>1460</td>\n",
       "      <td>1460</td>\n",
       "      <td>1460</td>\n",
       "      <td>1460</td>\n",
       "      <td>1460</td>\n",
       "      <td>1460</td>\n",
       "      <td>1460</td>\n",
       "      <td>...</td>\n",
       "      <td>1379</td>\n",
       "      <td>1379</td>\n",
       "      <td>1379</td>\n",
       "      <td>1379</td>\n",
       "      <td>1460</td>\n",
       "      <td>7</td>\n",
       "      <td>281</td>\n",
       "      <td>54</td>\n",
       "      <td>1460</td>\n",
       "      <td>1460</td>\n",
       "    </tr>\n",
       "    <tr>\n",
       "      <th>unique</th>\n",
       "      <td>5</td>\n",
       "      <td>2</td>\n",
       "      <td>2</td>\n",
       "      <td>4</td>\n",
       "      <td>4</td>\n",
       "      <td>2</td>\n",
       "      <td>5</td>\n",
       "      <td>3</td>\n",
       "      <td>25</td>\n",
       "      <td>9</td>\n",
       "      <td>...</td>\n",
       "      <td>6</td>\n",
       "      <td>3</td>\n",
       "      <td>5</td>\n",
       "      <td>5</td>\n",
       "      <td>3</td>\n",
       "      <td>3</td>\n",
       "      <td>4</td>\n",
       "      <td>4</td>\n",
       "      <td>9</td>\n",
       "      <td>6</td>\n",
       "    </tr>\n",
       "    <tr>\n",
       "      <th>top</th>\n",
       "      <td>RL</td>\n",
       "      <td>Pave</td>\n",
       "      <td>Grvl</td>\n",
       "      <td>Reg</td>\n",
       "      <td>Lvl</td>\n",
       "      <td>AllPub</td>\n",
       "      <td>Inside</td>\n",
       "      <td>Gtl</td>\n",
       "      <td>NAmes</td>\n",
       "      <td>Norm</td>\n",
       "      <td>...</td>\n",
       "      <td>Attchd</td>\n",
       "      <td>Unf</td>\n",
       "      <td>TA</td>\n",
       "      <td>TA</td>\n",
       "      <td>Y</td>\n",
       "      <td>Gd</td>\n",
       "      <td>MnPrv</td>\n",
       "      <td>Shed</td>\n",
       "      <td>WD</td>\n",
       "      <td>Normal</td>\n",
       "    </tr>\n",
       "    <tr>\n",
       "      <th>freq</th>\n",
       "      <td>1151</td>\n",
       "      <td>1454</td>\n",
       "      <td>50</td>\n",
       "      <td>925</td>\n",
       "      <td>1311</td>\n",
       "      <td>1459</td>\n",
       "      <td>1052</td>\n",
       "      <td>1382</td>\n",
       "      <td>225</td>\n",
       "      <td>1260</td>\n",
       "      <td>...</td>\n",
       "      <td>870</td>\n",
       "      <td>605</td>\n",
       "      <td>1311</td>\n",
       "      <td>1326</td>\n",
       "      <td>1340</td>\n",
       "      <td>3</td>\n",
       "      <td>157</td>\n",
       "      <td>49</td>\n",
       "      <td>1267</td>\n",
       "      <td>1198</td>\n",
       "    </tr>\n",
       "  </tbody>\n",
       "</table>\n",
       "<p>4 rows × 43 columns</p>\n",
       "</div>"
      ],
      "text/plain": [
       "       MSZoning Street Alley LotShape LandContour Utilities LotConfig  \\\n",
       "count      1460   1460    91     1460        1460      1460      1460   \n",
       "unique        5      2     2        4           4         2         5   \n",
       "top          RL   Pave  Grvl      Reg         Lvl    AllPub    Inside   \n",
       "freq       1151   1454    50      925        1311      1459      1052   \n",
       "\n",
       "       LandSlope Neighborhood Condition1  ... GarageType GarageFinish  \\\n",
       "count       1460         1460       1460  ...       1379         1379   \n",
       "unique         3           25          9  ...          6            3   \n",
       "top          Gtl        NAmes       Norm  ...     Attchd          Unf   \n",
       "freq        1382          225       1260  ...        870          605   \n",
       "\n",
       "       GarageQual GarageCond PavedDrive PoolQC  Fence MiscFeature SaleType  \\\n",
       "count        1379       1379       1460      7    281          54     1460   \n",
       "unique          5          5          3      3      4           4        9   \n",
       "top            TA         TA          Y     Gd  MnPrv        Shed       WD   \n",
       "freq         1311       1326       1340      3    157          49     1267   \n",
       "\n",
       "       SaleCondition  \n",
       "count           1460  \n",
       "unique             6  \n",
       "top           Normal  \n",
       "freq            1198  \n",
       "\n",
       "[4 rows x 43 columns]"
      ]
     },
     "execution_count": 4,
     "metadata": {},
     "output_type": "execute_result"
    }
   ],
   "source": [
    "data.describe(include=['O'])"
   ]
  },
  {
   "cell_type": "code",
   "execution_count": 5,
   "metadata": {},
   "outputs": [
    {
     "name": "stdout",
     "output_type": "stream",
     "text": [
      "   Id  MSSubClass MSZoning  LotFrontage  LotArea Street Alley LotShape  \\\n",
      "0   1          60       RL         65.0     8450   Pave   NaN      Reg   \n",
      "1   2          20       RL         80.0     9600   Pave   NaN      Reg   \n",
      "2   3          60       RL         68.0    11250   Pave   NaN      IR1   \n",
      "3   4          70       RL         60.0     9550   Pave   NaN      IR1   \n",
      "4   5          60       RL         84.0    14260   Pave   NaN      IR1   \n",
      "\n",
      "  LandContour Utilities  ... PoolArea PoolQC Fence MiscFeature MiscVal MoSold  \\\n",
      "0         Lvl    AllPub  ...        0    NaN   NaN         NaN       0      2   \n",
      "1         Lvl    AllPub  ...        0    NaN   NaN         NaN       0      5   \n",
      "2         Lvl    AllPub  ...        0    NaN   NaN         NaN       0      9   \n",
      "3         Lvl    AllPub  ...        0    NaN   NaN         NaN       0      2   \n",
      "4         Lvl    AllPub  ...        0    NaN   NaN         NaN       0     12   \n",
      "\n",
      "  YrSold  SaleType  SaleCondition  SalePrice  \n",
      "0   2008        WD         Normal     208500  \n",
      "1   2007        WD         Normal     181500  \n",
      "2   2008        WD         Normal     223500  \n",
      "3   2006        WD        Abnorml     140000  \n",
      "4   2008        WD         Normal     250000  \n",
      "\n",
      "[5 rows x 81 columns]\n"
     ]
    }
   ],
   "source": [
    "print(data.head())"
   ]
  },
  {
   "cell_type": "code",
   "execution_count": 6,
   "metadata": {},
   "outputs": [
    {
     "data": {
      "text/html": [
       "<div>\n",
       "<style scoped>\n",
       "    .dataframe tbody tr th:only-of-type {\n",
       "        vertical-align: middle;\n",
       "    }\n",
       "\n",
       "    .dataframe tbody tr th {\n",
       "        vertical-align: top;\n",
       "    }\n",
       "\n",
       "    .dataframe thead th {\n",
       "        text-align: right;\n",
       "    }\n",
       "</style>\n",
       "<table border=\"1\" class=\"dataframe\">\n",
       "  <thead>\n",
       "    <tr style=\"text-align: right;\">\n",
       "      <th></th>\n",
       "      <th>Id</th>\n",
       "      <th>MSSubClass</th>\n",
       "      <th>MSZoning</th>\n",
       "      <th>LotFrontage</th>\n",
       "      <th>LotArea</th>\n",
       "      <th>Street</th>\n",
       "      <th>Alley</th>\n",
       "      <th>LotShape</th>\n",
       "      <th>LandContour</th>\n",
       "      <th>Utilities</th>\n",
       "      <th>...</th>\n",
       "      <th>PoolArea</th>\n",
       "      <th>PoolQC</th>\n",
       "      <th>Fence</th>\n",
       "      <th>MiscFeature</th>\n",
       "      <th>MiscVal</th>\n",
       "      <th>MoSold</th>\n",
       "      <th>YrSold</th>\n",
       "      <th>SaleType</th>\n",
       "      <th>SaleCondition</th>\n",
       "      <th>SalePrice</th>\n",
       "    </tr>\n",
       "  </thead>\n",
       "  <tbody>\n",
       "    <tr>\n",
       "      <th>0</th>\n",
       "      <td>1</td>\n",
       "      <td>60</td>\n",
       "      <td>0</td>\n",
       "      <td>65.0</td>\n",
       "      <td>8450</td>\n",
       "      <td>0</td>\n",
       "      <td>-1</td>\n",
       "      <td>0</td>\n",
       "      <td>0</td>\n",
       "      <td>0</td>\n",
       "      <td>...</td>\n",
       "      <td>0</td>\n",
       "      <td>-1</td>\n",
       "      <td>-1</td>\n",
       "      <td>-1</td>\n",
       "      <td>0</td>\n",
       "      <td>2</td>\n",
       "      <td>2008</td>\n",
       "      <td>0</td>\n",
       "      <td>0</td>\n",
       "      <td>208500</td>\n",
       "    </tr>\n",
       "    <tr>\n",
       "      <th>1</th>\n",
       "      <td>2</td>\n",
       "      <td>20</td>\n",
       "      <td>0</td>\n",
       "      <td>80.0</td>\n",
       "      <td>9600</td>\n",
       "      <td>0</td>\n",
       "      <td>-1</td>\n",
       "      <td>0</td>\n",
       "      <td>0</td>\n",
       "      <td>0</td>\n",
       "      <td>...</td>\n",
       "      <td>0</td>\n",
       "      <td>-1</td>\n",
       "      <td>-1</td>\n",
       "      <td>-1</td>\n",
       "      <td>0</td>\n",
       "      <td>5</td>\n",
       "      <td>2007</td>\n",
       "      <td>0</td>\n",
       "      <td>0</td>\n",
       "      <td>181500</td>\n",
       "    </tr>\n",
       "    <tr>\n",
       "      <th>2</th>\n",
       "      <td>3</td>\n",
       "      <td>60</td>\n",
       "      <td>0</td>\n",
       "      <td>68.0</td>\n",
       "      <td>11250</td>\n",
       "      <td>0</td>\n",
       "      <td>-1</td>\n",
       "      <td>1</td>\n",
       "      <td>0</td>\n",
       "      <td>0</td>\n",
       "      <td>...</td>\n",
       "      <td>0</td>\n",
       "      <td>-1</td>\n",
       "      <td>-1</td>\n",
       "      <td>-1</td>\n",
       "      <td>0</td>\n",
       "      <td>9</td>\n",
       "      <td>2008</td>\n",
       "      <td>0</td>\n",
       "      <td>0</td>\n",
       "      <td>223500</td>\n",
       "    </tr>\n",
       "    <tr>\n",
       "      <th>3</th>\n",
       "      <td>4</td>\n",
       "      <td>70</td>\n",
       "      <td>0</td>\n",
       "      <td>60.0</td>\n",
       "      <td>9550</td>\n",
       "      <td>0</td>\n",
       "      <td>-1</td>\n",
       "      <td>1</td>\n",
       "      <td>0</td>\n",
       "      <td>0</td>\n",
       "      <td>...</td>\n",
       "      <td>0</td>\n",
       "      <td>-1</td>\n",
       "      <td>-1</td>\n",
       "      <td>-1</td>\n",
       "      <td>0</td>\n",
       "      <td>2</td>\n",
       "      <td>2006</td>\n",
       "      <td>0</td>\n",
       "      <td>1</td>\n",
       "      <td>140000</td>\n",
       "    </tr>\n",
       "    <tr>\n",
       "      <th>4</th>\n",
       "      <td>5</td>\n",
       "      <td>60</td>\n",
       "      <td>0</td>\n",
       "      <td>84.0</td>\n",
       "      <td>14260</td>\n",
       "      <td>0</td>\n",
       "      <td>-1</td>\n",
       "      <td>1</td>\n",
       "      <td>0</td>\n",
       "      <td>0</td>\n",
       "      <td>...</td>\n",
       "      <td>0</td>\n",
       "      <td>-1</td>\n",
       "      <td>-1</td>\n",
       "      <td>-1</td>\n",
       "      <td>0</td>\n",
       "      <td>12</td>\n",
       "      <td>2008</td>\n",
       "      <td>0</td>\n",
       "      <td>0</td>\n",
       "      <td>250000</td>\n",
       "    </tr>\n",
       "    <tr>\n",
       "      <th>...</th>\n",
       "      <td>...</td>\n",
       "      <td>...</td>\n",
       "      <td>...</td>\n",
       "      <td>...</td>\n",
       "      <td>...</td>\n",
       "      <td>...</td>\n",
       "      <td>...</td>\n",
       "      <td>...</td>\n",
       "      <td>...</td>\n",
       "      <td>...</td>\n",
       "      <td>...</td>\n",
       "      <td>...</td>\n",
       "      <td>...</td>\n",
       "      <td>...</td>\n",
       "      <td>...</td>\n",
       "      <td>...</td>\n",
       "      <td>...</td>\n",
       "      <td>...</td>\n",
       "      <td>...</td>\n",
       "      <td>...</td>\n",
       "      <td>...</td>\n",
       "    </tr>\n",
       "    <tr>\n",
       "      <th>1455</th>\n",
       "      <td>1456</td>\n",
       "      <td>60</td>\n",
       "      <td>0</td>\n",
       "      <td>62.0</td>\n",
       "      <td>7917</td>\n",
       "      <td>0</td>\n",
       "      <td>-1</td>\n",
       "      <td>0</td>\n",
       "      <td>0</td>\n",
       "      <td>0</td>\n",
       "      <td>...</td>\n",
       "      <td>0</td>\n",
       "      <td>-1</td>\n",
       "      <td>-1</td>\n",
       "      <td>-1</td>\n",
       "      <td>0</td>\n",
       "      <td>8</td>\n",
       "      <td>2007</td>\n",
       "      <td>0</td>\n",
       "      <td>0</td>\n",
       "      <td>175000</td>\n",
       "    </tr>\n",
       "    <tr>\n",
       "      <th>1456</th>\n",
       "      <td>1457</td>\n",
       "      <td>20</td>\n",
       "      <td>0</td>\n",
       "      <td>85.0</td>\n",
       "      <td>13175</td>\n",
       "      <td>0</td>\n",
       "      <td>-1</td>\n",
       "      <td>0</td>\n",
       "      <td>0</td>\n",
       "      <td>0</td>\n",
       "      <td>...</td>\n",
       "      <td>0</td>\n",
       "      <td>-1</td>\n",
       "      <td>0</td>\n",
       "      <td>-1</td>\n",
       "      <td>0</td>\n",
       "      <td>2</td>\n",
       "      <td>2010</td>\n",
       "      <td>0</td>\n",
       "      <td>0</td>\n",
       "      <td>210000</td>\n",
       "    </tr>\n",
       "    <tr>\n",
       "      <th>1457</th>\n",
       "      <td>1458</td>\n",
       "      <td>70</td>\n",
       "      <td>0</td>\n",
       "      <td>66.0</td>\n",
       "      <td>9042</td>\n",
       "      <td>0</td>\n",
       "      <td>-1</td>\n",
       "      <td>0</td>\n",
       "      <td>0</td>\n",
       "      <td>0</td>\n",
       "      <td>...</td>\n",
       "      <td>0</td>\n",
       "      <td>-1</td>\n",
       "      <td>2</td>\n",
       "      <td>0</td>\n",
       "      <td>2500</td>\n",
       "      <td>5</td>\n",
       "      <td>2010</td>\n",
       "      <td>0</td>\n",
       "      <td>0</td>\n",
       "      <td>266500</td>\n",
       "    </tr>\n",
       "    <tr>\n",
       "      <th>1458</th>\n",
       "      <td>1459</td>\n",
       "      <td>20</td>\n",
       "      <td>0</td>\n",
       "      <td>68.0</td>\n",
       "      <td>9717</td>\n",
       "      <td>0</td>\n",
       "      <td>-1</td>\n",
       "      <td>0</td>\n",
       "      <td>0</td>\n",
       "      <td>0</td>\n",
       "      <td>...</td>\n",
       "      <td>0</td>\n",
       "      <td>-1</td>\n",
       "      <td>-1</td>\n",
       "      <td>-1</td>\n",
       "      <td>0</td>\n",
       "      <td>4</td>\n",
       "      <td>2010</td>\n",
       "      <td>0</td>\n",
       "      <td>0</td>\n",
       "      <td>142125</td>\n",
       "    </tr>\n",
       "    <tr>\n",
       "      <th>1459</th>\n",
       "      <td>1460</td>\n",
       "      <td>20</td>\n",
       "      <td>0</td>\n",
       "      <td>75.0</td>\n",
       "      <td>9937</td>\n",
       "      <td>0</td>\n",
       "      <td>-1</td>\n",
       "      <td>0</td>\n",
       "      <td>0</td>\n",
       "      <td>0</td>\n",
       "      <td>...</td>\n",
       "      <td>0</td>\n",
       "      <td>-1</td>\n",
       "      <td>-1</td>\n",
       "      <td>-1</td>\n",
       "      <td>0</td>\n",
       "      <td>6</td>\n",
       "      <td>2008</td>\n",
       "      <td>0</td>\n",
       "      <td>0</td>\n",
       "      <td>147500</td>\n",
       "    </tr>\n",
       "  </tbody>\n",
       "</table>\n",
       "<p>1460 rows × 81 columns</p>\n",
       "</div>"
      ],
      "text/plain": [
       "        Id  MSSubClass  MSZoning  LotFrontage  LotArea  Street  Alley  \\\n",
       "0        1          60         0         65.0     8450       0     -1   \n",
       "1        2          20         0         80.0     9600       0     -1   \n",
       "2        3          60         0         68.0    11250       0     -1   \n",
       "3        4          70         0         60.0     9550       0     -1   \n",
       "4        5          60         0         84.0    14260       0     -1   \n",
       "...    ...         ...       ...          ...      ...     ...    ...   \n",
       "1455  1456          60         0         62.0     7917       0     -1   \n",
       "1456  1457          20         0         85.0    13175       0     -1   \n",
       "1457  1458          70         0         66.0     9042       0     -1   \n",
       "1458  1459          20         0         68.0     9717       0     -1   \n",
       "1459  1460          20         0         75.0     9937       0     -1   \n",
       "\n",
       "      LotShape  LandContour  Utilities  ...  PoolArea  PoolQC  Fence  \\\n",
       "0            0            0          0  ...         0      -1     -1   \n",
       "1            0            0          0  ...         0      -1     -1   \n",
       "2            1            0          0  ...         0      -1     -1   \n",
       "3            1            0          0  ...         0      -1     -1   \n",
       "4            1            0          0  ...         0      -1     -1   \n",
       "...        ...          ...        ...  ...       ...     ...    ...   \n",
       "1455         0            0          0  ...         0      -1     -1   \n",
       "1456         0            0          0  ...         0      -1      0   \n",
       "1457         0            0          0  ...         0      -1      2   \n",
       "1458         0            0          0  ...         0      -1     -1   \n",
       "1459         0            0          0  ...         0      -1     -1   \n",
       "\n",
       "      MiscFeature  MiscVal  MoSold  YrSold  SaleType  SaleCondition  SalePrice  \n",
       "0              -1        0       2    2008         0              0     208500  \n",
       "1              -1        0       5    2007         0              0     181500  \n",
       "2              -1        0       9    2008         0              0     223500  \n",
       "3              -1        0       2    2006         0              1     140000  \n",
       "4              -1        0      12    2008         0              0     250000  \n",
       "...           ...      ...     ...     ...       ...            ...        ...  \n",
       "1455           -1        0       8    2007         0              0     175000  \n",
       "1456           -1        0       2    2010         0              0     210000  \n",
       "1457            0     2500       5    2010         0              0     266500  \n",
       "1458           -1        0       4    2010         0              0     142125  \n",
       "1459           -1        0       6    2008         0              0     147500  \n",
       "\n",
       "[1460 rows x 81 columns]"
      ]
     },
     "execution_count": 6,
     "metadata": {},
     "output_type": "execute_result"
    }
   ],
   "source": [
    "# Object to float comme un bourrin (à faire bien)\n",
    "\n",
    "for name,dtype in zip(data.columns, data.dtypes):\n",
    "    if dtype == object:\n",
    "        data[name] = pd.factorize(data[name])[0]\n",
    "data.replace(np.nan,0)"
   ]
  },
  {
   "cell_type": "code",
   "execution_count": 7,
   "metadata": {},
   "outputs": [
    {
     "name": "stdout",
     "output_type": "stream",
     "text": [
      "False\n"
     ]
    }
   ],
   "source": [
    "# Remplacement des nan comme un bourrin (à faire bien)\n",
    "\n",
    "x = np.nan_to_num(data.iloc[:, 1:len(data.columns)-2].to_numpy())\n",
    "print(np.isnan(x).any())"
   ]
  },
  {
   "cell_type": "code",
   "execution_count": 8,
   "metadata": {},
   "outputs": [
    {
     "name": "stdout",
     "output_type": "stream",
     "text": [
      "[208500 181500 223500 ... 266500 142125 147500]\n"
     ]
    }
   ],
   "source": [
    "y = data.iloc[:, len(data.columns)-1].to_numpy()\n",
    "print(y)"
   ]
  },
  {
   "cell_type": "code",
   "execution_count": 9,
   "metadata": {},
   "outputs": [
    {
     "name": "stdout",
     "output_type": "stream",
     "text": [
      "Train:  (1168, 78) (1168,)\n",
      "Test:  (292, 78) (292,)\n"
     ]
    }
   ],
   "source": [
    "# Train test split\n",
    "train_test_ratio = 0.2\n",
    "\n",
    "X_train, X_test, y_train, y_test = train_test_split(x, y, test_size=train_test_ratio, random_state=42)\n",
    "\n",
    "print(\"Train: \", X_train.shape, y_train.shape)\n",
    "print(\"Test: \", X_test.shape, y_test.shape)"
   ]
  },
  {
   "cell_type": "code",
   "execution_count": 10,
   "metadata": {},
   "outputs": [],
   "source": [
    "# Scaling\n",
    "scaler = preprocessing.StandardScaler().fit(X_train)\n",
    "\n",
    "X_train_scaled = scaler.transform(X_train)\n",
    "X_test_scaled = scaler.transform(X_test)"
   ]
  },
  {
   "cell_type": "code",
   "execution_count": 11,
   "metadata": {},
   "outputs": [
    {
     "name": "stdout",
     "output_type": "stream",
     "text": [
      "ShuffleSplit(n_splits=10, random_state=0, test_size=0.3, train_size=None)\n"
     ]
    }
   ],
   "source": [
    "# Train folding (cross-val)\n",
    "n = 10\n",
    "\n",
    "cv = ShuffleSplit(n_splits=n, test_size=0.3, random_state=0)\n",
    "\n",
    "print(cv)"
   ]
  },
  {
   "cell_type": "code",
   "execution_count": 12,
   "metadata": {},
   "outputs": [],
   "source": [
    "# Random prediction function\n",
    "def random_prediction(x: np.ndarray, reg, n=5):\n",
    "    size = x.shape[0]-1\n",
    "    for _ in range(n):\n",
    "        number = random.randint(0, size)\n",
    "        y = y_test[number]\n",
    "        y_hat = int(reg.predict(x[number].reshape(1, -1))[0])\n",
    "        print(\"Real price: \", y, \" Predicted one: \", y_hat, \" Error: \", int((y-y_hat)/y_hat*100), \"%\")"
   ]
  },
  {
   "cell_type": "code",
   "execution_count": 13,
   "metadata": {},
   "outputs": [
    {
     "data": {
      "image/png": "[encoded data removed]",
      "text/plain": [
       "<Figure size 432x288 with 1 Axes>"
      ]
     },
     "metadata": {
      "needs_background": "light"
     },
     "output_type": "display_data"
    }
   ],
   "source": [
    "# SVM\n",
    "\n",
    "parameters = [1]\n",
    "mse_report = np.zeros((len(parameters), n))\n",
    "\n",
    "for i, par in enumerate(parameters):\n",
    "        reg = svm.SVR()\n",
    "        mse_report[i, :] = cross_val_score(reg, X_train, y_train, cv=cv)\n",
    "        \n",
    "plt.boxplot(mse_report.T)\n",
    "mu_perf = np.mean(mse_report, axis=1)\n",
    "std_perf = np.std(mse_report, axis=1)\n",
    "max_perf = np.max(mse_report, axis=1)\n",
    "min_perf = np.min(mse_report, axis=1)"
   ]
  },
  {
   "cell_type": "code",
   "execution_count": 14,
   "metadata": {},
   "outputs": [
    {
     "name": "stdout",
     "output_type": "stream",
     "text": [
      "MSE:  7859317774.244945\n",
      "r2 score:  -0.02463931284705123\n"
     ]
    }
   ],
   "source": [
    "king_parameter = 1\n",
    "\n",
    "reg.fit(X_train, y_train)\n",
    "y_pred = reg.predict(X_test)\n",
    "print(\"MSE: \", mean_squared_error(y_test, y_pred))\n",
    "print(\"r2 score: \", r2_score(y_test, y_pred))"
   ]
  },
  {
   "cell_type": "code",
   "execution_count": 15,
   "metadata": {},
   "outputs": [
    {
     "name": "stdout",
     "output_type": "stream",
     "text": [
      "Real price:  113000  Predicted one:  164987  Error:  -31 %\n",
      "Real price:  144500  Predicted one:  164987  Error:  -12 %\n",
      "Real price:  194000  Predicted one:  165056  Error:  17 %\n",
      "Real price:  271000  Predicted one:  165034  Error:  64 %\n",
      "Real price:  337500  Predicted one:  165027  Error:  104 %\n"
     ]
    }
   ],
   "source": [
    "random_prediction(x=X_test, reg=reg)"
   ]
  },
  {
   "cell_type": "code",
   "execution_count": 36,
   "metadata": {},
   "outputs": [
    {
     "data": {
      "image/png": "[encoded data removed]",
      "text/plain": [
       "<Figure size 432x288 with 1 Axes>"
      ]
     },
     "metadata": {
      "needs_background": "light"
     },
     "output_type": "display_data"
    }
   ],
   "source": [
    "# KNN\n",
    "\n",
    "parameters = [i for i in range(1, 33)]\n",
    "mse_report = np.zeros((len(parameters), n))\n",
    "test_report = np.zeros((len(parameters), 2))\n",
    "\n",
    "for i, par in enumerate(parameters):\n",
    "        reg = KNeighborsRegressor(n_neighbors=par, n_jobs=-1)\n",
    "        mse_report[i, :] = cross_val_score(reg, X_train, y_train, cv=cv)\n",
    "        reg.fit(X_train, y_train)\n",
    "        y_pred = reg.predict(X_train)\n",
    "        test_report[i, 0] = mean_squared_error(y_train, y_pred)\n",
    "        y_pred = reg.predict(X_test)\n",
    "        test_report[i, 1] = mean_squared_error(y_test, y_pred)\n",
    "        \n",
    "        \n",
    "        \n",
    "plt.boxplot(mse_report.T)\n",
    "mu_perf = np.mean(mse_report, axis=1)\n",
    "std_perf = np.std(mse_report, axis=1)\n",
    "max_perf = np.max(mse_report, axis=1)\n",
    "min_perf = np.min(mse_report, axis=1)\n"
   ]
  },
  {
   "cell_type": "code",
   "execution_count": 37,
   "metadata": {},
   "outputs": [
    {
     "data": {
      "text/plain": [
       "[<matplotlib.lines.Line2D at 0x7f5cc71faf28>]"
      ]
     },
     "execution_count": 37,
     "metadata": {},
     "output_type": "execute_result"
    },
    {
     "data": {
      "image/png": "[encoded data removed]",
      "text/plain": [
       "<Figure size 432x288 with 1 Axes>"
      ]
     },
     "metadata": {
      "needs_background": "light"
     },
     "output_type": "display_data"
    }
   ],
   "source": [
    "plt.plot(test_report[:, 0], \"--\")\n",
    "plt.plot(test_report[:, 1])"
   ]
  },
  {
   "cell_type": "code",
   "execution_count": 38,
   "metadata": {},
   "outputs": [
    {
     "name": "stdout",
     "output_type": "stream",
     "text": [
      "(1168, 78)\n",
      "MSE:  3347604188.833071\n",
      "r2 score:  0.5635642998212576\n"
     ]
    }
   ],
   "source": [
    "king_parameter = 3\n",
    "print(X_train.shape)\n",
    "reg.fit(X_train, y_train)\n",
    "y_pred = reg.predict(X_test)\n",
    "print(\"MSE: \", mean_squared_error(y_test, y_pred))\n",
    "print(\"r2 score: \", r2_score(y_test, y_pred))"
   ]
  },
  {
   "cell_type": "code",
   "execution_count": 34,
   "metadata": {},
   "outputs": [
    {
     "name": "stdout",
     "output_type": "stream",
     "text": [
      "Real price:  280000  Predicted one:  249226  Error:  12 %\n",
      "Real price:  124500  Predicted one:  133403  Error:  -6 %\n",
      "Real price:  465000  Predicted one:  251996  Error:  84 %\n",
      "Real price:  179900  Predicted one:  148232  Error:  21 %\n",
      "Real price:  144000  Predicted one:  153482  Error:  -6 %\n"
     ]
    }
   ],
   "source": [
    "random_prediction(x=X_test, reg=reg)"
   ]
  },
  {
   "cell_type": "code",
   "execution_count": 19,
   "metadata": {},
   "outputs": [
    {
     "name": "stdout",
     "output_type": "stream",
     "text": [
      "{'activation': 'relu', 'alpha': 0.0001, 'batch_size': 'auto', 'beta_1': 0.9, 'beta_2': 0.999, 'early_stopping': False, 'epsilon': 1e-08, 'hidden_layer_sizes': (100, 75, 50, 25), 'learning_rate': 'constant', 'learning_rate_init': 0.001, 'max_fun': 15000, 'max_iter': 1000, 'momentum': 0.9, 'n_iter_no_change': 10, 'nesterovs_momentum': True, 'power_t': 0.5, 'random_state': None, 'shuffle': True, 'solver': 'adam', 'tol': 0.0001, 'validation_fraction': 0.1, 'verbose': False, 'warm_start': False}\n",
      "{'activation': 'relu', 'alpha': 0.0001, 'batch_size': 'auto', 'beta_1': 0.9, 'beta_2': 0.999, 'early_stopping': False, 'epsilon': 1e-08, 'hidden_layer_sizes': (100, 66, 33), 'learning_rate': 'constant', 'learning_rate_init': 0.001, 'max_fun': 15000, 'max_iter': 1000, 'momentum': 0.9, 'n_iter_no_change': 10, 'nesterovs_momentum': True, 'power_t': 0.5, 'random_state': None, 'shuffle': True, 'solver': 'adam', 'tol': 0.0001, 'validation_fraction': 0.1, 'verbose': False, 'warm_start': False}\n",
      "{'activation': 'relu', 'alpha': 0.0001, 'batch_size': 'auto', 'beta_1': 0.9, 'beta_2': 0.999, 'early_stopping': False, 'epsilon': 1e-08, 'hidden_layer_sizes': (100, 50), 'learning_rate': 'constant', 'learning_rate_init': 0.001, 'max_fun': 15000, 'max_iter': 1000, 'momentum': 0.9, 'n_iter_no_change': 10, 'nesterovs_momentum': True, 'power_t': 0.5, 'random_state': None, 'shuffle': True, 'solver': 'adam', 'tol': 0.0001, 'validation_fraction': 0.1, 'verbose': False, 'warm_start': False}\n",
      "{'activation': 'relu', 'alpha': 0.0001, 'batch_size': 'auto', 'beta_1': 0.9, 'beta_2': 0.999, 'early_stopping': False, 'epsilon': 1e-08, 'hidden_layer_sizes': (100,), 'learning_rate': 'constant', 'learning_rate_init': 0.001, 'max_fun': 15000, 'max_iter': 1000, 'momentum': 0.9, 'n_iter_no_change': 10, 'nesterovs_momentum': True, 'power_t': 0.5, 'random_state': None, 'shuffle': True, 'solver': 'adam', 'tol': 0.0001, 'validation_fraction': 0.1, 'verbose': False, 'warm_start': False}\n"
     ]
    },
    {
     "data": {
      "image/png": "[encoded data removed]",
      "text/plain": [
       "<Figure size 432x288 with 1 Axes>"
      ]
     },
     "metadata": {
      "needs_background": "light"
     },
     "output_type": "display_data"
    }
   ],
   "source": [
    "# FWW_NN\n",
    "\n",
    "parameters = [(100, 75, 50, 25), (100, 66, 33), (100, 50), (100,)]\n",
    "mse_report = np.zeros((len(parameters), n))\n",
    "\n",
    "for i, par in enumerate(parameters):\n",
    "        reg = MLPRegressor(hidden_layer_sizes=par, activation='relu', solver='adam', alpha=0.0001, batch_size='auto', learning_rate='constant', learning_rate_init=0.001, power_t=0.5, max_iter=1000, shuffle=True, random_state=None, tol=0.0001, verbose=False, warm_start=False, momentum=0.9, nesterovs_momentum=True, early_stopping=False, validation_fraction=0.1, beta_1=0.9, beta_2=0.999, epsilon=1e-08, n_iter_no_change=10, max_fun=15000)\n",
    "        print(reg.get_params())\n",
    "        mse_report[i, :] = cross_val_score(reg, X_train, y_train, cv=cv)\n",
    "        \n",
    "plt.boxplot(mse_report.T)\n",
    "mu_perf = np.mean(mse_report, axis=1)\n",
    "std_perf = np.std(mse_report, axis=1)\n",
    "max_perf = np.max(mse_report, axis=1)\n",
    "min_perf = np.min(mse_report, axis=1)"
   ]
  },
  {
   "cell_type": "code",
   "execution_count": 20,
   "metadata": {},
   "outputs": [
    {
     "name": "stdout",
     "output_type": "stream",
     "text": [
      "MSE:  1118292328.2959735\n",
      "r2 score:  0.8542053756138651\n"
     ]
    },
    {
     "name": "stderr",
     "output_type": "stream",
     "text": [
      "/home/benoit/.local/lib/python3.6/site-packages/sklearn/neural_network/_multilayer_perceptron.py:571: ConvergenceWarning: Stochastic Optimizer: Maximum iterations (400) reached and the optimization hasn't converged yet.\n",
      "  % self.max_iter, ConvergenceWarning)\n"
     ]
    }
   ],
   "source": [
    "king_parameter = (100, 66, 33)\n",
    "\n",
    "reg = MLPRegressor(hidden_layer_sizes=king_parameter, activation='relu', solver='adam', alpha=0.0001, batch_size='auto', learning_rate='constant', learning_rate_init=0.001, power_t=0.5, max_iter=400, shuffle=True, random_state=None, tol=0.0001, verbose=False, warm_start=False, momentum=0.9, nesterovs_momentum=True, early_stopping=False, validation_fraction=0.1, beta_1=0.9, beta_2=0.999, epsilon=1e-08, n_iter_no_change=10, max_fun=15000)\n",
    "reg.fit(X_train, y_train)\n",
    "y_pred = reg.predict(X_test)\n",
    "print(\"MSE: \", mean_squared_error(y_test, y_pred))\n",
    "print(\"r2 score: \", r2_score(y_test, y_pred))"
   ]
  },
  {
   "cell_type": "code",
   "execution_count": 23,
   "metadata": {},
   "outputs": [
    {
     "name": "stdout",
     "output_type": "stream",
     "text": [
      "Real price:  239000  Predicted one:  251093  Error:  -4 %\n",
      "Real price:  124000  Predicted one:  119691  Error:  3 %\n",
      "Real price:  611657  Predicted one:  446262  Error:  37 %\n",
      "Real price:  200624  Predicted one:  210919  Error:  -4 %\n",
      "Real price:  137500  Predicted one:  119094  Error:  15 %\n"
     ]
    }
   ],
   "source": [
    "random_prediction(x=X_test, reg=reg)"
   ]
  },
  {
   "cell_type": "code",
   "execution_count": null,
   "metadata": {},
   "outputs": [],
   "source": []
  }
 ],
 "metadata": {
  "kernelspec": {
   "display_name": "Python 3",
   "language": "python",
   "name": "python3"
  },
  "language_info": {
   "codemirror_mode": {
    "name": "ipython",
    "version": 3
   },
   "file_extension": ".py",
   "mimetype": "text/x-python",
   "name": "python",
   "nbconvert_exporter": "python",
   "pygments_lexer": "ipython3",
   "version": "3.6.9"
  }
 },
 "nbformat": 4,
 "nbformat_minor": 4
}
